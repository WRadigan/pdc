{
 "cells": [
  {
   "cell_type": "markdown",
   "metadata": {},
   "source": [
    "# Imports and System Setup"
   ]
  },
  {
   "cell_type": "code",
   "execution_count": 1,
   "metadata": {},
   "outputs": [
    {
     "name": "stdout",
     "output_type": "stream",
     "text": [
      "896 joule / kelvin / kilogram\n"
     ]
    }
   ],
   "source": [
    "import numpy as np\n",
    "from scipy.integrate import odeint\n",
    "import matplotlib.pyplot as plt\n",
    "from pytexit import py2tex\n",
    "from IPython.display import Markdown\n",
    "from gekko import GEKKO\n",
    "import pandas as pd\n",
    "from matplotlib import rcParams\n",
    "import os\n",
    "import sys\n",
    "from copy import copy\n",
    "from pytexit import py2tex\n",
    "\n",
    "\n",
    "import sympy as sp\n",
    "sp.init_printing()\n",
    "\n",
    "\n",
    "%matplotlib widget\n",
    "#%matplotlib inline\n",
    "\n",
    "# Look for custom python codes in the Radigan Engineering Vault...\n",
    "sys.path.insert(1, 'C:\\\\\\\\RadiganVault\\\\\\\\Python')\n",
    "\n",
    "import RadiganEngineeringDefaults as RE\n",
    "from RadiganEngineering_Materials_Library import *\n",
    "from RadiganEngineeringTorsionSpring import *\n",
    "from RadiganEngineeringBellevilleSpring import *\n",
    "\n",
    "# Use higher quality figures in PDF exports\n",
    "#rcParams['figure.dpi']= 300\n",
    "#rcParams['figure.figsize'] = [8, 6]\n",
    "set_matplotlib_formats('png', 'pdf')\n",
    "\n",
    "print(ALUMINUM_6061_T6.Specific_Heat)"
   ]
  },
  {
   "cell_type": "markdown",
   "metadata": {},
   "source": [
    "# GEKKO Non-Linear Model"
   ]
  },
  {
   "cell_type": "code",
   "execution_count": 2,
   "metadata": {},
   "outputs": [
    {
     "name": "stderr",
     "output_type": "stream",
     "text": [
      "C:\\ProgramData\\Anaconda3\\lib\\site-packages\\gekko\\gk_write_files.py:144: UnitStrippedWarning: The unit of the quantity is stripped when downcasting to ndarray.\n",
      "  csv_data = np.hstack(('time',np.array(self.time).flatten().astype(object)))\n"
     ]
    },
    {
     "data": {
      "application/vnd.jupyter.widget-view+json": {
       "model_id": "08e77e07be1548a3b0d5d164c8d96994",
       "version_major": 2,
       "version_minor": 0
      },
      "text/plain": [
       "Canvas(toolbar=Toolbar(toolitems=[('Home', 'Reset original view', 'home', 'home'), ('Back', 'Back to previous …"
      ]
     },
     "metadata": {},
     "output_type": "display_data"
    },
    {
     "name": "stderr",
     "output_type": "stream",
     "text": [
      "C:\\ProgramData\\Anaconda3\\lib\\site-packages\\gekko\\gk_write_files.py:144: UnitStrippedWarning: The unit of the quantity is stripped when downcasting to ndarray.\n",
      "  csv_data = np.hstack(('time',np.array(self.time).flatten().astype(object)))\n"
     ]
    }
   ],
   "source": [
    "# https://apmonitor.com/pdc/index.php/Main/TCLabSim\n",
    "# https://apmonitor.com/pdc/index.php/Main/TCLabConvection\n",
    "\n",
    "# Update model with natural convection estimation.\n",
    "\n",
    "TCLab = GEKKO(remote=False)    # create GEKKO model for dx/dt\n",
    "\n",
    "t_sim = 1500 * ureg.sec # Number of seconds to simulate\n",
    "points_per_second = 1 # Only works if this is the same as the 'sampling frequency' in the cell below...\n",
    "\n",
    "TCLab.time = np.linspace(0, t_sim.magnitude, (t_sim.magnitude * points_per_second) + 1) * ureg.sec # time points\n",
    "\n",
    "# dt is in the units of ________.\n",
    "\n",
    "# --> Inputs (7):\n",
    "T_Ambient = Q_(23.0, ureg.degC)\n",
    "HS_Mass  = 0.004 * ureg.kg \n",
    "HS_Cp    = 500.0 * (ureg.joule /  (ureg.kg    * ureg.kelvin)) # Heatsink Specific Heat\n",
    "HS_Conv  = 5.0   * (ureg.watt) / ((ureg.m**2) * ureg.kelvin)  # Convection coefficient\n",
    "# NOTE: This lesson changes the convection coefficient from 10 to 5 W/m^2-K, in order to make a better match when including the RADIATION TERM.\n",
    "HS_Area  = 0.0012 * ureg.m**2                                 # Heatsink Surface Area\n",
    "\n",
    "sigma    = 5.67e-8 # W/m2-K4\n",
    "epsilon  = 0.9\n",
    "\n",
    "# Starting temperature for the heatsink.\n",
    "# Might be equal to 'T_Ambient' or something else.\n",
    "HS_T_Start = T_Ambient\n",
    "#HS_T_Start = Q_(23.0, ureg.degC)\n",
    "\n",
    "#HeaterControl = 'manual'\n",
    "HeaterControl = 'p_only'\n",
    "CollectData = False\n",
    "\n",
    "if (HeaterControl == 'manual'):\n",
    "    #############################################################\n",
    "    ################ HEATER STEP INPUT ##########################\n",
    "    # Curve defining the heater setting over the course of time.\n",
    "    HeaterValues = np.zeros(len(TCLab.time))\n",
    "    HeaterValues[15:300] = 20\n",
    "    HeaterValues[300:600] = 75\n",
    "    HeaterValues[600:900] = 0\n",
    "    HeaterValues[900:1200] = 50\n",
    "    #HeaterValues[15:800] = 50\n",
    "    #HeaterValues[0:9] = 50\n",
    "    Heater_Q  = TCLab.Param(HeaterValues)  # \"Percentage of maximum value\" of the heater\n",
    "    #############################################################\n",
    "    #############################################################\n",
    "\n",
    "if (HeaterControl == 'p_only'):\n",
    "    # Proportional control only...\n",
    "    T_SetPoint = np.zeros(len(TCLab.time)) + T_Ambient.to('degC').magnitude\n",
    "    T_SetPoint[10:400] = 65.0\n",
    "    #T_SetPoint[400:]  = 35.0\n",
    "    #T_SetPoint[900:]  = 30.0\n",
    "    \n",
    "    \n",
    "    TCLab_PID = GEKKO(remote=False)    # create GEKKO model for dx/dt\n",
    "\n",
    "    t_sim = 1500 * ureg.sec # Number of seconds to simulate\n",
    "    points_per_second = 1 # Only works if this is the same as the 'sampling frequency' in the cell below...\n",
    "\n",
    "    TCLab_PID.time = np.linspace(0, t_sim.magnitude, (t_sim.magnitude * points_per_second) + 1) * ureg.sec # time points\n",
    "\n",
    "    # Controller model\n",
    "    # Gain Calculated for Aggressive Control (Set-Point Tracking) is --> 6.028 percent / delta_degree_Celsius\n",
    "    # Gain Calculated for Disturbance Rejection is                is --> 10.615 percent / delta_degree_Celsius\n",
    "    # \n",
    "    Kc = 26.028                  # controller gain\n",
    "    #tauI = 1.0                  # controller reset time\n",
    "    #tauD = 1.0                  # derivative constant\n",
    "    \n",
    "    OP_0 = TCLab_PID.Const(value=0.0)   # OP bias\n",
    "    OP = TCLab_PID.Var(value=0.0)#, lb=0.0, ub=100.0)       # controller output --> THE UPPER BOUND and LOWER BOUND don't seem to work like I expect them too...\n",
    "    #OP = TCLab.MV(value=0.0, ub=100)#; OP.STATUS = 1       # controller output\n",
    "    PV = TCLab_PID.Var(value=T_Ambient.to('degC').magnitude)       # process variable defaults to Ambient Temperature\n",
    "    SP = TCLab_PID.Param(value=T_SetPoint)    # set point\n",
    "    Intgl = TCLab_PID.Var(value=0.0)    # integral of the error\n",
    "    err = TCLab_PID.Intermediate(SP-PV) # set point error\n",
    "    TCLab_PID.Equation(Intgl.dt()==err) # integral of the error\n",
    "    \n",
    "    # PID Control\n",
    "    #TCLab.Equation(OP == OP_0 + Kc*err + (Kc/tauI)*Intgl - PV.dt()) \n",
    "    \n",
    "    # P-Only Control\n",
    "    TCLab_PID.Equation(OP == OP_0 + Kc*err)\n",
    "    \n",
    "    # Process model\n",
    "    # FOPDT Parameters Estimated from: TCL = pd.read_csv('2020_11_23_TCLab_Measured_Data.csv')\n",
    "    # Using This Equation:\n",
    "    # m.Equation(tau * yp.dt() + (yp-y_SteadyState) == K * (HeaterValue_cspline - u_SteadyState))\n",
    "    #     Kp     = 0.703 degC / %\n",
    "    #     Tau_p  = 189.487 seconds\n",
    "    #     thetap = 15.510 seconds\n",
    "    Kp     = 0.703     # degC / %                    # process gain\n",
    "    tauP   = 189.487   # seconds                # process time constant\n",
    "    thetap = 15.510    #  seconds\n",
    "    #TCLab_PID.Equation(time_plus_delay==time-theta)\n",
    "#     GKL_alpha = 0.0\n",
    "#     GKL_Beta  = 0.005\n",
    "#     GKL_gamma = -0.006181061174034302\n",
    "    TCLab_PID.Equation(tauP*PV.dt() + PV ==  Kp*OP)\n",
    "    # # This is the 'Linearized' model equation.\n",
    "    # TCLab_Linear.Equation(GKL_HS_Temp_C.dt()  == GKL_alpha + GKL_gamma * (GKL_HS_Temp_C - GKL_Temperature_Linearization_Point) + \n",
    "    #                                                          GKL_Beta  * (GKL_Heater_Q  - GKL_Heater_Linearization_Point) )\n",
    "\n",
    "    TCLab_PID.options.IMODE=4\n",
    "    #TCLab.options.NODES = 3\n",
    "    #TCLab.options.TIME_SHIFT=0\n",
    "    TCLab_PID.solve(disp=False)\n",
    "    \n",
    "    # Use the Heater Values calculated by the control equations as the basis \n",
    "    # for the dynamic simulatiosn below\n",
    "    HeaterValues = np.zeros(len(TCLab_PID.time))\n",
    "    HeaterValues = np.clip(OP.value, 0.0, 100)\n",
    "    \n",
    "    Heater_Q  = TCLab.Param(HeaterValues)  # \"Percentage of maximum value\" of the heater\n",
    "    #print(Heater_Q)\n",
    "    #print(HeaterValues)\n",
    "    \n",
    "    plt.figure()\n",
    "    plt.subplot(2,1,1)\n",
    "    plt.plot(TCLab_PID.time,OP.value,'b:',label='OP')\n",
    "    plt.ylabel('Output')\n",
    "    plt.legend()\n",
    "    plt.subplot(2,1,2)\n",
    "    plt.plot(TCLab_PID.time,SP.value,'k-',label='SP')\n",
    "    plt.plot(TCLab_PID.time,PV.value,'r--',label='PV')\n",
    "    plt.xlabel('Time (sec)')\n",
    "    plt.ylabel('Process')\n",
    "    plt.legend()\n",
    "    plt.show()\n",
    "\n",
    "\n",
    "\n",
    "Heater_Coefficient = 0.01 # ~= 0.01 Watts / %\n",
    "GK_Heater_Coefficient       = TCLab.Param(Heater_Coefficient) # This seems a little low, I would have expected more than 1 Watt at full power [100%] from the USB source.\n",
    "\n",
    "# --> States (1): (Variables, with initial conditions)\n",
    "#print('Heatsink Starting Temperature is {0}'.format(HS_T_Start.to('degC').magnitude))\n",
    "GK_HS_Temp_C   = TCLab.Var(HS_T_Start.to('degC').magnitude) # GEKKO variable for the temperature of the heatsink\n",
    "\n",
    "# --> Equations (1): \n",
    "GK_HS_Temp_K  = TCLab.Intermediate(GK_HS_Temp_C + 273.15) # Convert to Kelvin for the Radiation term\n",
    "GK_Convection = TCLab.Intermediate(  (HS_Conv.to('watt/(m^2*K)').magnitude * HS_Area.to('m^2').magnitude) * (T_Ambient.to('kelvin').magnitude - GK_HS_Temp_K)  )\n",
    "GK_Radiation  = TCLab.Intermediate(  sigma * epsilon * HS_Area.to('m^2').magnitude * (T_Ambient.to('kelvin').magnitude**4 - GK_HS_Temp_K**4)  )\n",
    "GK_Loss       = TCLab.Intermediate(GK_Convection + GK_Radiation)\n",
    "GK_Gain       = TCLab.Intermediate(GK_Heater_Coefficient * Heater_Q)\n",
    "\n",
    "\n",
    "# GEKKO model Equation\n",
    "TCLab.Equation(GK_HS_Temp_C.dt()  == ( GK_Convection + GK_Radiation + GK_Gain ) / \n",
    "                                     (HS_Mass.to('kg').magnitude * HS_Cp.to('joule/(kg*K)').magnitude) )\n",
    "\n",
    "\n",
    "\n",
    "############### GEKKO SOLVER OPTIONS ######################\n",
    "# solve ODEs and plot\n",
    "# https://gekko.readthedocs.io/en/latest/imode.html\n",
    "TCLab.options.IMODE = 4 # dynamic simulation\n",
    "\n",
    "# Type: Integer, Input/Output\n",
    "# Default Value: 0\n",
    "# Description: Cold start model: 0=warm start, 1=cold start, 2=decompose problem\n",
    "#TCLab.options.COLDSTART = 2\n",
    "\n",
    "#TCLab.options.SOLVER = 1\n",
    "#TCLab.options.MAX_ITER = 1000\n",
    "\n",
    "TCLab.options.NODES = 3\n",
    "TCLab.options.TIME_SHIFT=0\n",
    "\n",
    "# Solve the dynamic system\n",
    "TCLab.solve(disp=False)\n",
    "############### GEKKO SOLVER OPTIONS ######################"
   ]
  },
  {
   "cell_type": "markdown",
   "metadata": {},
   "source": [
    "# SymPy Analytical Solution"
   ]
  },
  {
   "cell_type": "code",
   "execution_count": 3,
   "metadata": {},
   "outputs": [
    {
     "data": {
      "text/plain": [
       "'Full Model Equation:'"
      ]
     },
     "metadata": {},
     "output_type": "display_data"
    },
    {
     "data": {
      "image/png": "[encoded data removed]",
      "text/latex": [
       "$\\displaystyle \\frac{dT}{dt} = \\frac{A \\epsilon \\sigma \\left(T_{A}^{4} - T_{HS}^{4}\\right) + A h \\left(T_{A} - T_{HS}\\right) + Q \\alpha}{C_{p} m}$"
      ],
      "text/plain": [
       "                      ⎛   4       4⎞                         \n",
       "                A⋅ε⋅σ⋅⎝T_A  - T_HS ⎠ + A⋅h⋅(T_A - T_HS) + Q⋅α\n",
       "\\frac{dT}{dt} = ─────────────────────────────────────────────\n",
       "                                     Cₚ⋅m                    "
      ]
     },
     "metadata": {},
     "output_type": "display_data"
    },
    {
     "data": {
      "text/plain": [
       "'\"gamma\" is the Model partial derivitive with respect to \"SP_Temp_HS\":'"
      ]
     },
     "metadata": {},
     "output_type": "display_data"
    },
    {
     "data": {
      "image/png": "[encoded data removed]",
      "text/latex": [
       "$\\displaystyle \\gamma = \\frac{- 4 A T_{HS}^{3} \\epsilon \\sigma - A h}{C_{p} m}$"
      ],
      "text/plain": [
       "              3          \n",
       "    - 4⋅A⋅T_HS ⋅ε⋅σ - A⋅h\n",
       "γ = ─────────────────────\n",
       "             Cₚ⋅m        "
      ]
     },
     "metadata": {},
     "output_type": "display_data"
    },
    {
     "name": "stdout",
     "output_type": "stream",
     "text": [
      "Given:\n",
      "   T_Ambient    = 296.1 kelvin | 23.0 degree_Celsius\n"
     ]
    },
    {
     "data": {
      "text/plain": [
       "'If:'"
      ]
     },
     "metadata": {},
     "output_type": "display_data"
    },
    {
     "name": "stdout",
     "output_type": "stream",
     "text": [
      "   T_HS    = 296.1 kelvin | 23.0 degree_Celsius\n",
      "   Area    = 0.0012 meter ** 2\n",
      "   epsilon = 0.9\n",
      "   sigma   = 5.67e-08\n",
      "   h       = 5.0 watt / kelvin / meter ** 2\n",
      "   Cp      = 500.0 joule / kelvin / kilogram\n",
      "   mass    = 0.004 kilogram\n"
     ]
    },
    {
     "data": {
      "text/plain": [
       "'Then:'"
      ]
     },
     "metadata": {},
     "output_type": "display_data"
    },
    {
     "data": {
      "image/png": "[encoded data removed]",
      "text/latex": [
       "$\\displaystyle \\gamma = -0.006181$"
      ],
      "text/plain": [
       "γ = -0.006181"
      ]
     },
     "metadata": {},
     "output_type": "display_data"
    },
    {
     "name": "stdout",
     "output_type": "stream",
     "text": [
      "\n",
      "\n"
     ]
    },
    {
     "data": {
      "text/plain": [
       "'In Python:'"
      ]
     },
     "metadata": {},
     "output_type": "display_data"
    },
    {
     "name": "stdout",
     "output_type": "stream",
     "text": [
      "-0.006181061267852783\n",
      "\n",
      "\n",
      "\n"
     ]
    },
    {
     "data": {
      "text/plain": [
       "'\"Beta\" is the Model partial derivitive with respect to \"SP_Heater_Q\":'"
      ]
     },
     "metadata": {},
     "output_type": "display_data"
    },
    {
     "data": {
      "image/png": "[encoded data removed]",
      "text/latex": [
       "$\\displaystyle \\beta = \\frac{\\alpha}{C_{p} m}$"
      ],
      "text/plain": [
       "     α  \n",
       "β = ────\n",
       "    Cₚ⋅m"
      ]
     },
     "metadata": {},
     "output_type": "display_data"
    },
    {
     "data": {
      "text/plain": [
       "'If:'"
      ]
     },
     "metadata": {},
     "output_type": "display_data"
    },
    {
     "name": "stdout",
     "output_type": "stream",
     "text": [
      "   mass     = 0.004 kilogram\n",
      "   C_p      = 500.0 joule / kelvin / kilogram\n",
      "   alpha    = 0.01\n"
     ]
    },
    {
     "data": {
      "text/plain": [
       "'Then:'"
      ]
     },
     "metadata": {},
     "output_type": "display_data"
    },
    {
     "data": {
      "image/png": "[encoded data removed]",
      "text/latex": [
       "$\\displaystyle \\beta = 0.005$"
      ],
      "text/plain": [
       "β = 0.005"
      ]
     },
     "metadata": {},
     "output_type": "display_data"
    },
    {
     "data": {
      "text/plain": [
       "'In Python:'"
      ]
     },
     "metadata": {},
     "output_type": "display_data"
    },
    {
     "name": "stdout",
     "output_type": "stream",
     "text": [
      "0.004999995231628418\n"
     ]
    }
   ],
   "source": [
    "##########################################################################\n",
    "############################### SymPy ####################################\n",
    "# SymPy equations for the partial derivitives\n",
    "SP_h,SP_Area,SP_T_Ambient,SP_Temp_HS = sp.symbols(['h','A','T_A','T_HS']) # Convection symbols\n",
    "spConvection                  = (SP_h * SP_Area) * (SP_T_Ambient - SP_Temp_HS)\n",
    "#display('Convection Term:')\n",
    "#display(spConvection)\n",
    "\n",
    "SP_sigma, SP_epsilon            = sp.symbols(['sigma','epsilon'])\n",
    "SP_Radiation                   = SP_sigma * SP_epsilon * SP_Area * (SP_T_Ambient**4 - SP_Temp_HS**4)\n",
    "#display('Radiation Term:')\n",
    "#display(SP_Radiation)\n",
    "\n",
    "SP_Heater_Coefficient, SP_Heater_Q            = sp.symbols(['alpha','Q'])\n",
    "SP_Gain                        = SP_Heater_Coefficient * SP_Heater_Q\n",
    "#display('Heat Gain Term:')\n",
    "#display(SP_Gain)\n",
    "\n",
    "\n",
    "# Sympy Equation\n",
    "SP_mass, SP_C_p, SP_dTdt  = sp.symbols(['m','C_p',r'\\frac{dT}{dt}'])\n",
    "SP_TCModel =  (spConvection + SP_Radiation + SP_Gain) / (SP_mass * SP_C_p)\n",
    "#display('Model Equation Right-Hand-Side:')\n",
    "#display(SP_TCModel)\n",
    "\n",
    "# A SymPy 'Equation' includes what is on both the RIGHT and LEFT hand side of the '='\n",
    "SP_TCLab_Equation = sp.Eq(SP_dTdt, SP_TCModel )\n",
    "display('Full Model Equation:')\n",
    "display(SP_TCLab_Equation)\n",
    "\n",
    "# Sympy symbols for the linearized models.\n",
    "SP_gamma,SP_beta = sp.symbols(['gamma','beta'])\n",
    "\n",
    "display('\"gamma\" is the Model partial derivitive with respect to \"SP_Temp_HS\":')\n",
    "gamma = sp.Eq(SP_gamma,sp.diff(SP_TCModel , SP_Temp_HS))\n",
    "display(gamma)\n",
    "\n",
    "# NOTE: The model is linearized in \"Degrees Celsius\", but 'gamma' is calculated in 'Kelvin'!\n",
    "#Linearization_Temp = HS_T_Start\n",
    "Linearization_Temp = T_Ambient\n",
    "#Linearization_Temp = Q_(90.0, ureg.degC)\n",
    "\n",
    "print('Given:')\n",
    "print('   T_Ambient    = {0:.1f} | {1:.1f}'.format(T_Ambient.to('kelvin'), T_Ambient.to('degC')) )\n",
    "\n",
    "display('If:')\n",
    "print('   T_HS    = {0:.1f} | {1:.1f}'.format(Linearization_Temp.to('kelvin'), Linearization_Temp.to('degC')) )\n",
    "print('   Area    = {0}'.format(HS_Area.to('m^2')))\n",
    "print('   epsilon = {0}'.format(epsilon))\n",
    "print('   sigma   = {0}'.format(sigma))\n",
    "print('   h       = {0}'.format(HS_Conv.to('watt/(m^2*K)')))\n",
    "print('   Cp      = {0}'.format(HS_Cp.to('joule/(kg*K)')))\n",
    "print('   mass    = {0}'.format(HS_Mass.to('kg')))\n",
    "display('Then:')\n",
    "gamma_solved = (sp.sympify(gamma.subs(SP_Temp_HS , Linearization_Temp.to('kelvin').magnitude)\n",
    "                                .subs(SP_Area, HS_Area.to('m^2').magnitude)\n",
    "                                .subs(SP_epsilon, epsilon)\n",
    "                                .subs(SP_sigma, sigma)\n",
    "                                .subs(SP_h, HS_Conv.to('watt/(m^2*K)').magnitude)\n",
    "                                .subs(SP_C_p, HS_Cp.to('joule/(kg*K)').magnitude)\n",
    "                                .subs(SP_mass,   HS_Mass.to('kg').magnitude  )\n",
    "                                .evalf(4) ))\n",
    "display(gamma_solved)\n",
    "\n",
    "print('\\n')\n",
    "display('In Python:')\n",
    "print(float(gamma_solved.rhs))\n",
    "\n",
    "print('\\n\\n')\n",
    "display('\"Beta\" is the Model partial derivitive with respect to \"SP_Heater_Q\":')\n",
    "beta = sp.Eq(SP_beta, sp.diff(SP_TCModel , SP_Heater_Q) )\n",
    "display(beta)\n",
    "display('If:')\n",
    "print('   mass     = {0}'.format(HS_Mass.to('kg')))\n",
    "print('   C_p      = {0}'.format(HS_Cp.to('joule/(kg*K)')))\n",
    "print('   alpha    = {0}'.format(Heater_Coefficient))\n",
    "display('Then:')\n",
    "beta_solved = (sp.sympify(beta.subs(SP_mass,   HS_Mass.to('kg').magnitude  )\n",
    "                              .subs(SP_Heater_Coefficient,   Heater_Coefficient  )\n",
    "                              .subs(SP_C_p,   HS_Cp.to('joule/(kg*K)').magnitude  )\n",
    "                              .evalf(4) ))\n",
    "\n",
    "display(beta_solved)\n",
    "display('In Python:')\n",
    "print(float(beta_solved.rhs))\n",
    "############################### SymPy ####################################\n",
    "##########################################################################"
   ]
  },
  {
   "cell_type": "markdown",
   "metadata": {},
   "source": [
    "# GEKKO Linearized Model"
   ]
  },
  {
   "cell_type": "code",
   "execution_count": 4,
   "metadata": {},
   "outputs": [
    {
     "name": "stdout",
     "output_type": "stream",
     "text": [
      "GKL_alpha = 0.0\n",
      "GKL_Beta  = 0.005\n",
      "GKL_gamma = -0.006181061174034302\n"
     ]
    }
   ],
   "source": [
    "#########################################################################\n",
    "#################### LINEARIZED GEKKO MODEL #############################\n",
    "\n",
    "#ANS_gamma = -U*A/(m*Cp) - 4*eps*sigma*A*TaK**3/(m*Cp)\n",
    "#ANS_beta = alpha/(m*Cp)\n",
    "\n",
    "TaK = Linearization_Temp.to('kelvin').magnitude\n",
    "ANSWER_beta = Heater_Coefficient /(HS_Mass.to('kg').magnitude * HS_Cp.to('joule/(kg*K)').magnitude)\n",
    "\n",
    "ANSWER_gamma = -HS_Conv.to('watt/(m^2*K)').magnitude * HS_Area.to('m^2').magnitude / (HS_Mass.to('kg').magnitude * HS_Cp.to('joule/(kg*K)').magnitude)  - 4*epsilon*sigma*HS_Area.to('m^2').magnitude*TaK**3  /  ( HS_Mass.to('kg').magnitude *  HS_Cp.to('joule/(kg*K)').magnitude )\n",
    "\n",
    "#print('ANSWER_gamma = {}'.format(ANSWER_gamma))\n",
    "#print('ANSWER_beta  = {}'.format(ANSWER_beta))\n",
    "\n",
    "TCLab_Linear = GEKKO(remote=False)    # create GEKKO model for dx/dt\n",
    "TCLab_Linear.time = np.linspace(0, t_sim.magnitude, (t_sim.magnitude * points_per_second) + 1) * ureg.sec # time points\n",
    "\n",
    "GKL_HS_Temp_C   = TCLab_Linear.Var(HS_T_Start.to('degC').magnitude) # GEKKO variable for the temperature of the heatsink\n",
    "GKL_Heater_Q    = TCLab_Linear.Param(HeaterValues)  # \"Percentage of maximum value\" of the heater\n",
    "\n",
    "GKL_Heater_Linearization_Point      = 0.0\n",
    "# NOTE: The model is linearized in \"Degrees Celsius\", but 'gamma' is calculated in 'Kelvin'!\n",
    "GKL_Temperature_Linearization_Point = Linearization_Temp.to('degC').magnitude\n",
    "\n",
    "# # These gamma and Beta calculations come from the analytical (SymPy) solution above.\n",
    "# GKL_gamma       = TCLab_Linear.Param(float(gamma_solved.rhs))\n",
    "# GKL_Beta        = TCLab_Linear.Param(float(beta_solved.rhs))\n",
    "\n",
    "# These gamma and Beta calculations come from the hand-calculated derivitives, and\n",
    "# the equations defined above.\n",
    "GKL_gamma       = TCLab_Linear.Param(ANSWER_gamma)\n",
    "GKL_Beta        = TCLab_Linear.Param(ANSWER_beta)\n",
    "\n",
    "\n",
    "# These are constant values that are preliminary computations for the 'alpha' term in the model linearization below.\n",
    "# The model can be 'linearized' at any point to minimize the errors at that point\n",
    "GKL_HS_Temp_K  = GKL_Temperature_Linearization_Point + 273.15 # Convert to Kelvin for the Radiation term\n",
    "GKL_Convection = (HS_Conv.to('watt/(m^2*K)').magnitude * HS_Area.to('m^2').magnitude) * (T_Ambient.to('kelvin').magnitude - GKL_HS_Temp_K)\n",
    "GKL_Radiation  = sigma * epsilon * HS_Area.to('m^2').magnitude * (T_Ambient.to('kelvin').magnitude**4 - GKL_HS_Temp_K**4)\n",
    "GKL_Gain       = Heater_Coefficient * GKL_Heater_Linearization_Point\n",
    "\n",
    "# This 'alpha' term is f(x0,u0) --> Which is the non-linear function evaluated at the x0, u0 linearization points\n",
    "GKL_alpha = ( GKL_Convection + GKL_Radiation + GKL_Gain ) / (HS_Mass.to('kg').magnitude * HS_Cp.to('joule/(kg*K)').magnitude)\n",
    "\n",
    "\n",
    "print('GKL_alpha = {0}'.format(GKL_alpha))\n",
    "print('GKL_Beta  = {0}'.format(GKL_Beta.value))\n",
    "print('GKL_gamma = {0}'.format(GKL_gamma.value))\n",
    "\n",
    "\n",
    "# This is the 'Linearized' model equation.\n",
    "TCLab_Linear.Equation(GKL_HS_Temp_C.dt()  == GKL_alpha + GKL_gamma * (GKL_HS_Temp_C - GKL_Temperature_Linearization_Point) + \n",
    "                                                         GKL_Beta  * (GKL_Heater_Q  - GKL_Heater_Linearization_Point) )\n",
    "\n",
    "############### GEKKO SOLVER OPTIONS ######################\n",
    "# solve ODEs and plot\n",
    "# https://gekko.readthedocs.io/en/latest/imode.html\n",
    "TCLab_Linear.options.IMODE = 4 # dynamic simulation\n",
    "\n",
    "# Type: Integer, Input/Output\n",
    "# Default Value: 0\n",
    "# Description: Cold start model: 0=warm start, 1=cold start, 2=decompose problem\n",
    "#TCLab_Linear.options.COLDSTART = 2\n",
    "\n",
    "#TCLab_Linear.options.SOLVER = 1\n",
    "#TCLab_Linear.options.MAX_ITER = 1000\n",
    "\n",
    "TCLab_Linear.options.NODES = 3\n",
    "TCLab_Linear.options.TIME_SHIFT=0\n",
    "\n",
    "# Solve the dynamic system\n",
    "TCLab_Linear.solve(disp=False)\n",
    "############### GEKKO SOLVER OPTIONS ######################\n",
    "\n",
    "#################### LINEARIZED GEKKO MODEL #############################\n",
    "#########################################################################"
   ]
  },
  {
   "cell_type": "markdown",
   "metadata": {},
   "source": [
    "# Plot Simulation Results"
   ]
  },
  {
   "cell_type": "code",
   "execution_count": 5,
   "metadata": {},
   "outputs": [
    {
     "data": {
      "application/vnd.jupyter.widget-view+json": {
       "model_id": "ab445a9d370f46af9a8362fa294949e6",
       "version_major": 2,
       "version_minor": 0
      },
      "text/plain": [
       "Canvas(toolbar=Toolbar(toolitems=[('Home', 'Reset original view', 'home', 'home'), ('Back', 'Back to previous …"
      ]
     },
     "metadata": {},
     "output_type": "display_data"
    },
    {
     "name": "stdout",
     "output_type": "stream",
     "text": [
      "Max Predicted Temperature = 80.84\n"
     ]
    }
   ],
   "source": [
    "########################################################################\n",
    "####################### PLOT SIMULATION RESULTS ########################\n",
    "fig = plt.figure(figsize=(12,4))\n",
    "plt_ax = plt.subplot(1,3,1)\n",
    "#plt_ax = plt.axes(label='TCLab')\n",
    "#plt_ax.set_ylim(20,65)\n",
    "#plt_ax.set_ylim(T_Ambient.to('degC').magnitude - 5.0, max(GK_HS_Temp_C.value) + 5.0)\n",
    "\n",
    "\n",
    "print('Max Predicted Temperature = {0:.2f}'.format(max(GK_HS_Temp_C.value)))\n",
    "\n",
    "# Plot the heatsink temperature as a function of time NON-LINEAR MODEL! (And Heater input curve...)\n",
    "plt_ax.plot(TCLab.time,       GK_HS_Temp_C, color = 'blue', linestyle = '-', marker='',linewidth=1,label=r'$\\alpha$ = {0}'.format(GK_Heater_Coefficient.value[0]))\n",
    "\n",
    "# Plot the heatsink temperature from the LINEAR MODEL as a function of time. (And Heater input curve...)\n",
    "plt_ax.plot(TCLab_Linear.time,GKL_HS_Temp_C, color = 'blue', linestyle = ':', marker='',linewidth=1,label=r'NL $\\alpha$ = {0}'.format(GK_Heater_Coefficient.value[0]))\n",
    "\n",
    "\n",
    "#######################################################################\n",
    "# Create the 'dummy' plot with NaN's that will be replaced\n",
    "# with measured data below.\n",
    "T1 = np.empty(len(TCLab.time))\n",
    "T1[:] = np.nan\n",
    "T1_time = np.empty(len(TCLab.time))\n",
    "T1_time[:] = np.nan\n",
    "MeasuredDataPlot, = plt_ax.plot(T1_time,T1,'r.', label='Measured')\n",
    "#######################################################################\n",
    "\n",
    "plt.grid(True)\n",
    "plt.title('TC Lab Thermal Simulation')\n",
    "plt.xlabel('Time (sec)')\n",
    "plt.ylabel('Temperature (degC)')\n",
    "plt.legend()\n",
    "plt.show()\n",
    "\n",
    "# Make a second plot that shows the heat Gain & Loss terms\n",
    "plt_ax2 = plt.subplot(1,3,2)\n",
    "plt_ax2.plot(TCLab.time,GK_Convection, color = 'blue',   linestyle = '-', marker='',linewidth=1,label='Convection')\n",
    "plt_ax2.plot(TCLab.time,GK_Radiation,  color = 'orange', linestyle = '-', marker='',linewidth=1,label='Radiation')\n",
    "plt_ax2.plot(TCLab.time,GK_Loss,       color = 'green',  linestyle = '-', marker='',linewidth=1,label='Total Loss')\n",
    "plt_ax2.plot(TCLab.time,GK_Gain,       color = 'red',    linestyle = '-', marker='',linewidth=1,label='Heater Gain')\n",
    "plt.title('TC Lab Heat Gain & Loss Terms')\n",
    "plt.xlabel('Time (sec)')\n",
    "plt.ylabel('Energy (Watts)')\n",
    "plt.legend()\n",
    "plt.grid(True)\n",
    "\n",
    "# instantiate a second axes that shares the same x-axis \n",
    "# and plot the Heater Input\n",
    "Q_ax = plt.subplot(1,3,3)\n",
    "#Q_ax = plt_ax2.twinx()  \n",
    "Q_ax.plot(TCLab.time,Heater_Q, color = 'gray', linestyle = ':', marker='',linewidth=2,label='Heater')\n",
    "Q_ax.set_ylim(-5,105)\n",
    "Q_ax.grid(True)\n",
    "plt.ylabel('Heater Percentage of Full Scale')\n",
    "plt.xlabel('Time (sec)')\n",
    "plt.title('Heater Output')\n",
    "#plt.legend(loc = 'lower right')\n",
    "\n",
    "plt.subplots_adjust(wspace = 0.4 )\n",
    "\n",
    "if (HeaterControl == 'p_only'):\n",
    "    plt_ax.plot(TCLab_PID.time,       PV, color = 'blue', linestyle = ':', marker='',linewidth=1,label='PV')\n",
    "    plt_ax.plot(TCLab_PID.time,       SP, color = 'gray', linestyle = '--', marker='',linewidth=1,label='SP')\n",
    "\n",
    "    Q_ax.plot(TCLab_PID.time,       OP, color = 'green', linestyle = '-', marker='',linewidth=1,label='PID_OP')\n",
    "\n",
    "Q_ax.legend(loc = 'lower right');\n",
    "plt_ax.legend();\n",
    "\n",
    "####################### PLOT SIMULATION RESULTS ########################\n",
    "########################################################################"
   ]
  },
  {
   "cell_type": "markdown",
   "metadata": {},
   "source": [
    "# Collect Data from Arduino-Based TCLab For Comparison with Simulated Results"
   ]
  },
  {
   "cell_type": "code",
   "execution_count": 6,
   "metadata": {},
   "outputs": [],
   "source": [
    "# Actual measured data\n",
    "import tclab\n",
    "import time\n",
    "\n",
    "#CollectData = True\n",
    "if (HeaterControl == 'manual') and (CollectData == True):\n",
    "    lab = tclab.TCLab()\n",
    "    \n",
    "    # Use the array defined above to set the heater.\n",
    "    lab.Q1(HeaterValues[0])\n",
    "    Start_Time = time.time()\n",
    "\n",
    "    T1[:] = np.nan       # Reset the measured temperatures to NaN's\n",
    "    T1_time[:] = np.nan\n",
    "    DTime = np.empty_like(HeaterValues)\n",
    "    ElapsedTime = np.empty_like(HeaterValues)\n",
    "    \n",
    "    for i in range(len(TCLab.time)):\n",
    "        #time.sleep(1)\n",
    "        time.sleep(0.70) # ~0.30 sec 'overhead' time\n",
    "        lab.Q1(HeaterValues[i])\n",
    "        T1[i] = lab.T1\n",
    "        T1_time[i] = i\n",
    "        DTime[i] = time.time()\n",
    "        ElapsedTime[i] = DTime[i] - Start_Time\n",
    "        \n",
    "        print('N = {3}, Time = {4:.1f}, T1 = {0}, T2 = {1}, Heater Set to {2}'.format(lab.T1, lab.T2, HeaterValues[i], i, ElapsedTime[i]))\n",
    "        MeasuredDataPlot.set_ydata(np.array(T1))\n",
    "        #MeasuredDataPlot.set_xdata(np.array(T1_time))\n",
    "        MeasuredDataPlot.set_xdata(ElapsedTime)\n",
    "        plt_ax.set_title(\"{0} of {1} Points Measured\".format(i+1,t_sim))\n",
    "        fig.canvas.draw()\n",
    "        fig.canvas.flush_events()\n",
    "        plt.show()\n",
    "    \n",
    "    PD_MeasuredData = pd.DataFrame(data = {'DTime':  DTime,\n",
    "                                        'ElapsedTime': ElapsedTime,\n",
    "                                        'T1': T1,\n",
    "                                        'T1_time': T1_time,\n",
    "                                        'HeaterValues': HeaterValues\n",
    "                                       })\n",
    "    PD_MeasuredData.to_csv('TCLab_Measured_Data.csv')\n",
    "    lab.close()\n",
    "    plt.show()"
   ]
  },
  {
   "cell_type": "markdown",
   "metadata": {},
   "source": [
    "## DEBUG: Open TCLab and report current Temperatures"
   ]
  },
  {
   "cell_type": "code",
   "execution_count": 7,
   "metadata": {},
   "outputs": [],
   "source": [
    "if (0): # Grab the current temperature from the TCLab if desired. (I.e. = 1)\n",
    "    import tclab\n",
    "    lab = tclab.TCLab()\n",
    "    print('T1 = {0}, T2 = {1}'.format(lab.T1, lab.T2))\n",
    "    print('T1 = {0}, T2 = {1}'.format(lab.T1, lab.T2))\n",
    "    print('T1 = {0}, T2 = {1}'.format(lab.T1, lab.T2))\n",
    "    lab.close()"
   ]
  },
  {
   "cell_type": "markdown",
   "metadata": {},
   "source": [
    "## DEBUG: Close TCLab Connection"
   ]
  },
  {
   "cell_type": "code",
   "execution_count": 8,
   "metadata": {},
   "outputs": [],
   "source": [
    "#lab.close()"
   ]
  },
  {
   "cell_type": "code",
   "execution_count": null,
   "metadata": {},
   "outputs": [],
   "source": []
  }
 ],
 "metadata": {
  "kernelspec": {
   "display_name": "Python 3",
   "language": "python",
   "name": "python3"
  },
  "language_info": {
   "codemirror_mode": {
    "name": "ipython",
    "version": 3
   },
   "file_extension": ".py",
   "mimetype": "text/x-python",
   "name": "python",
   "nbconvert_exporter": "python",
   "pygments_lexer": "ipython3",
   "version": "3.7.3"
  }
 },
 "nbformat": 4,
 "nbformat_minor": 4
}
