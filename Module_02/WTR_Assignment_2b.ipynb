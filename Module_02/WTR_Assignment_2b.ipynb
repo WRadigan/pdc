{
 "cells": [
  {
   "cell_type": "code",
   "execution_count": 1,
   "metadata": {},
   "outputs": [],
   "source": [
    "import numpy as np\n",
    "from scipy.integrate import odeint\n",
    "import matplotlib.pyplot as plt\n",
    "from pytexit import py2tex\n",
    "from IPython.display import Markdown\n",
    "\n",
    "%matplotlib widget"
   ]
  },
  {
   "cell_type": "code",
   "execution_count": 2,
   "metadata": {},
   "outputs": [
    {
     "data": {
      "text/latex": [
       "$$dydt=-k \\operatorname{y}\\left(t\\right)$$"
      ],
      "text/plain": [
       "<IPython.core.display.Latex object>"
      ]
     },
     "metadata": {},
     "output_type": "display_data"
    },
    {
     "name": "stdout",
     "output_type": "stream",
     "text": [
      "$$dydt=-k \\operatorname{y}\\left(t\\right)$$\n"
     ]
    },
    {
     "data": {
      "text/markdown": [
       "$$dydt=-k \\operatorname{y}\\left(t\\right)$$"
      ],
      "text/plain": [
       "<IPython.core.display.Markdown object>"
      ]
     },
     "metadata": {},
     "output_type": "display_data"
    },
    {
     "data": {
      "application/vnd.jupyter.widget-view+json": {
       "model_id": "dba589cbe3164c81903509f5cdcdbdee",
       "version_major": 2,
       "version_minor": 0
      },
      "text/plain": [
       "Canvas(toolbar=Toolbar(toolitems=[('Home', 'Reset original view', 'home', 'home'), ('Back', 'Back to previous …"
      ]
     },
     "metadata": {},
     "output_type": "display_data"
    }
   ],
   "source": [
    "# SolveDifferentialEquations_1.py\n",
    "\n",
    "# function that returns dy/dt\n",
    "def model(y,t):\n",
    "    k = 0.3\n",
    "    dydt = -k * y\n",
    "    print('k={0}, y={1}'.format(k,y))\n",
    "    return dydt\n",
    "\n",
    "def Problem_1(y,t):\n",
    "    dydt = -y + 1.0\n",
    "    return dydt\n",
    "\n",
    "\n",
    "display(Markdown(py2tex('dydt = -k * y(t)')))\n",
    "\n",
    "# initial condition\n",
    "y0 = 5\n",
    "\n",
    "# time points\n",
    "\n",
    "# solve ODE\n",
    "#y = odeint(model,y0,t)\n",
    "\n",
    "#Problem 1 \n",
    "y0 = 0.0\n",
    "t = np.linspace(0,5,100)\n",
    "y = odeint(Problem_1,y0,t)\n",
    "\n",
    "# plot results\n",
    "plt.figure()\n",
    "plt.plot(t,y)\n",
    "plt.xlabel('time')\n",
    "plt.ylabel('y(t)')\n",
    "plt.show()\n"
   ]
  },
  {
   "cell_type": "code",
   "execution_count": 3,
   "metadata": {},
   "outputs": [
    {
     "name": "stdout",
     "output_type": "stream",
     "text": [
      "[0. 0. 0. 0. 0. 0. 0. 0. 0. 0. 0. 0. 0. 0. 0. 0. 0. 0. 0. 0. 0. 0. 0. 0.\n",
      " 0. 0. 0. 0. 0. 0. 0. 0. 0. 0. 0. 0. 0. 0. 0. 0. 0. 0. 0. 0. 0. 0. 0. 0.\n",
      " 0. 0. 0. 0. 0. 0. 0. 0. 0. 2. 2. 2. 2. 2. 2. 2. 2. 2. 2. 2. 2. 2. 2. 2.\n",
      " 2. 2. 2. 2. 2. 2. 2. 2. 2. 2. 2. 2. 2. 2. 2. 2. 2. 2. 2. 2. 2. 2. 2. 2.\n",
      " 2. 2. 2. 2. 2. 2. 2. 2. 2. 2. 2. 2. 2. 2. 2. 2. 2. 2. 2. 2. 2. 2. 2. 2.\n",
      " 2. 2. 2. 2. 2. 2. 2. 2. 2. 2. 2. 2. 2. 2. 2. 2. 2. 2. 2. 2. 2. 2. 2. 2.\n",
      " 2. 2. 2. 2. 2. 2. 2. 2. 2. 2. 2. 2. 2. 2. 2. 2. 2. 2. 2. 2. 2. 2. 2. 2.\n",
      " 2. 2. 2. 2. 2. 2. 2. 2. 2. 2. 2. 2. 2. 2. 2. 2. 2. 2. 2. 2. 2. 2. 2. 2.\n",
      " 2. 2. 2. 2. 2. 2. 2. 2.]\n",
      "(200,)\n",
      "(200,)\n"
     ]
    },
    {
     "data": {
      "application/vnd.jupyter.widget-view+json": {
       "model_id": "85c8b7ff7d5247e1904d92c81af294f5",
       "version_major": 2,
       "version_minor": 0
      },
      "text/plain": [
       "Canvas(toolbar=Toolbar(toolitems=[('Home', 'Reset original view', 'home', 'home'), ('Back', 'Back to previous …"
      ]
     },
     "metadata": {},
     "output_type": "display_data"
    }
   ],
   "source": [
    "# Problem 2\n",
    "\n",
    "def Problem_2(y,t):\n",
    "    if (t<10.0):\n",
    "        u = 0.0\n",
    "    else:\n",
    "        u = 2.0\n",
    "    dydt = (-y + u) / 5.0\n",
    "    #print('u={0}, y={1}'.format(u,y))\n",
    "    return dydt\n",
    "\n",
    "\n",
    "# Solve Problem 2 ODE\n",
    "y0 = 1.0\n",
    "t = np.linspace(0,35,200)\n",
    "\n",
    "# u steps from 0 to 2 at t = 10\n",
    "u = np.zeros(len(t))\n",
    "u[t>10.0] = 2.0\n",
    "print(u)\n",
    "#print(t>10)\n",
    "\n",
    "print(np.shape(u))\n",
    "print(np.shape(t))\n",
    "\n",
    "y = odeint(Problem_2,y0,t)\n",
    "\n",
    "# plot results\n",
    "plt.figure()\n",
    "plt.plot(t,u,color = 'blue', label='Input u(t)')\n",
    "plt.plot(t,y,color = 'red' , label='Output y(t)')\n",
    "plt.legend()\n",
    "plt.xlabel('time')\n",
    "plt.ylabel('y(t)')\n",
    "plt.show()\n"
   ]
  },
  {
   "cell_type": "code",
   "execution_count": 4,
   "metadata": {},
   "outputs": [
    {
     "data": {
      "application/vnd.jupyter.widget-view+json": {
       "model_id": "ea74ca10565640f989db91ffe42431ab",
       "version_major": 2,
       "version_minor": 0
      },
      "text/plain": [
       "Canvas(toolbar=Toolbar(toolitems=[('Home', 'Reset original view', 'home', 'home'), ('Back', 'Back to previous …"
      ]
     },
     "metadata": {},
     "output_type": "display_data"
    },
    {
     "data": {
      "application/vnd.jupyter.widget-view+json": {
       "model_id": "996315c6507241eeb944573b6e3fa108",
       "version_major": 2,
       "version_minor": 0
      },
      "text/plain": [
       "Canvas(toolbar=Toolbar(toolitems=[('Home', 'Reset original view', 'home', 'home'), ('Back', 'Back to previous …"
      ]
     },
     "metadata": {},
     "output_type": "display_data"
    },
    {
     "data": {
      "text/plain": [
       "<matplotlib.legend.Legend at 0x17dd9420fd0>"
      ]
     },
     "execution_count": 4,
     "metadata": {},
     "output_type": "execute_result"
    }
   ],
   "source": [
    "# Problem 3\n",
    "\n",
    "def Problem_3_x(x,t):\n",
    "    dxdt = 3.0 * np.exp(-t)\n",
    "    return dxdt\n",
    "\n",
    "def Problem_3_y(y,t):\n",
    "    dydt = 3.0 - y\n",
    "    return dydt\n",
    "\n",
    "def Problem_3_combined(z,t):\n",
    "    x = z[0]\n",
    "    y = z[1]\n",
    "    dxdt = 3.0 * np.exp(-t)\n",
    "    dydt = 3.0 - y\n",
    "    dzdt = [dxdt,dydt]\n",
    "    return dzdt\n",
    "\n",
    "\n",
    "# Solve Problem 2 ODE\n",
    "x0 = 0.0\n",
    "y0 = 0.0\n",
    "t = np.linspace(0,35,400)\n",
    "\n",
    "x = odeint(Problem_3_x,x0,t)\n",
    "y = odeint(Problem_3_y,y0,t)\n",
    "\n",
    "\n",
    "# Solve both of them in the same function.\n",
    "z0 = [x0,y0]\n",
    "z = odeint(Problem_3_combined,z0,t)\n",
    "x_by_z = z[:,0]\n",
    "y_by_z = z[:,1]\n",
    "\n",
    "# plot results\n",
    "plt.figure()\n",
    "plt.plot(t,x,color = 'blue', label='dxdt = 3.0 * np.exp(-t)')\n",
    "plt.plot(t,y,color = 'red' , label='dydt = 3.0 - y')\n",
    "\n",
    "plt.plot(t,x_by_z,color = 'blue', label='dxdt using Z')\n",
    "plt.plot(t,y_by_z,color = 'red' , label='dydt using Z')\n",
    "\n",
    "plt.legend()\n",
    "plt.xlabel('time')\n",
    "plt.ylabel('y(t)')\n",
    "plt.show()\n",
    "\n",
    "plt.figure()\n",
    "plt.plot(t,x-y,            color = 'black', label = 'x-y')\n",
    "plt.plot(t,x_by_z-y_by_z,  color = 'gray',  label = '(x_by_z) - (y_by_z)')\n",
    "plt.legend()\n"
   ]
  },
  {
   "cell_type": "code",
   "execution_count": 14,
   "metadata": {},
   "outputs": [
    {
     "data": {
      "application/vnd.jupyter.widget-view+json": {
       "model_id": "b4da0444a96347b99f64397ddfd38dc7",
       "version_major": 2,
       "version_minor": 0
      },
      "text/plain": [
       "Canvas(toolbar=Toolbar(toolitems=[('Home', 'Reset original view', 'home', 'home'), ('Back', 'Back to previous …"
      ]
     },
     "metadata": {},
     "output_type": "display_data"
    }
   ],
   "source": [
    "# Problem 4\n",
    "\n",
    "def Problem_4(z,t, u_of_t_func):\n",
    "    #print('Solve Problem 4')\n",
    "    x = z[0]\n",
    "    y = z[1]\n",
    "    u_of_t = u_of_t_func(t)\n",
    "    #print('t={0}, u={1}, x={2}, y={3}'.format(t, u_of_t, x, y))\n",
    "    dxdt = (-x + u_of_t) / 2.0\n",
    "    dydt = (-y + x) / 5.0\n",
    "    dzdt = [dxdt,dydt]\n",
    "    return dzdt\n",
    "\n",
    "def u_of_t_func(t):\n",
    "    if (t<5.0):\n",
    "        u = 0.0\n",
    "    else:\n",
    "        u = 2.0\n",
    "    return u\n",
    "\n",
    "# Solve Problem 4 ODE\n",
    "x0 = 0.0\n",
    "y0 = 0.0\n",
    "z0 = [x0,y0]\n",
    "\n",
    "num_points = 500\n",
    "\n",
    "t_vector = np.linspace(0,40,num_points)\n",
    "#print(t_vector)\n",
    "\n",
    "# u steps from 0 to 2 at t = 5\n",
    "u = np.zeros(num_points)\n",
    "for ii in range(num_points):\n",
    "    u[ii] = u_of_t_func(t_vector[ii])\n",
    "    #print('t={0}, u={1}'.format(t_vector[ii], u[ii]))\n",
    "\n",
    "\n",
    "# The video lesson uses a for loop integrating over\n",
    "# a small portion of the time-span.  This seems very un-Pythonic.\n",
    "\n",
    "# This solution is to pass a function reference as an argument to the function that is being\n",
    "# integrated.  This is a bit more of an advanced programming concept, but it seems much \n",
    "# more flexible.\n",
    "z = odeint(Problem_4,z0,t_vector, args = (u_of_t_func,))\n",
    "#z = odeint(Problem_4,z0,t_vector)\n",
    "x = z[:,0]\n",
    "y = z[:,1]\n",
    "\n",
    "# plot results\n",
    "plt.figure()\n",
    "plt.plot(t_vector,x,color = 'blue', label='x')\n",
    "plt.plot(t_vector,y,color = 'red' , label='y')\n",
    "plt.plot(t_vector,u,color = 'gray' , label='u(t)')\n",
    "\n",
    "plt.legend()\n",
    "plt.xlabel('time')\n",
    "plt.ylabel('y(t)')\n",
    "plt.show()"
   ]
  },
  {
   "cell_type": "code",
   "execution_count": null,
   "metadata": {},
   "outputs": [],
   "source": []
  }
 ],
 "metadata": {
  "kernelspec": {
   "display_name": "Python 3",
   "language": "python",
   "name": "python3"
  },
  "language_info": {
   "codemirror_mode": {
    "name": "ipython",
    "version": 3
   },
   "file_extension": ".py",
   "mimetype": "text/x-python",
   "name": "python",
   "nbconvert_exporter": "python",
   "pygments_lexer": "ipython3",
   "version": "3.7.3"
  }
 },
 "nbformat": 4,
 "nbformat_minor": 4
}
