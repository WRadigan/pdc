{
 "cells": [
  {
   "cell_type": "code",
   "execution_count": 1,
   "metadata": {},
   "outputs": [],
   "source": [
    "import numpy as np\n",
    "import matplotlib.pyplot as plt\n",
    "from scipy.integrate import odeint"
   ]
  },
  {
   "cell_type": "code",
   "execution_count": 5,
   "metadata": {},
   "outputs": [
    {
     "name": "stdout",
     "output_type": "stream",
     "text": [
      "Starting Level = 0.000, Final Level = 24.500\n"
     ]
    },
    {
     "data": {
      "image/png": "[encoded data removed]",
      "text/plain": [
       "<Figure size 432x288 with 2 Axes>"
      ]
     },
     "metadata": {
      "needs_background": "light"
     },
     "output_type": "display_data"
    }
   ],
   "source": [
    "# define tank model\n",
    "def tank(Level,time,c,valve):\n",
    "    rho = 1000.0 # water density (kg/m^3)\n",
    "    A = 1.0      # tank area (m^2)\n",
    "    # calculate derivative of the Level\n",
    "    dLevel_dt = (c/(rho*A)) * valve\n",
    "    return dLevel_dt\n",
    "\n",
    "# time span for the simulation for 10 sec, every 0.1 sec\n",
    "ts = np.linspace(0,10,101)\n",
    "\n",
    "# valve operation\n",
    "c = 50.0          # valve coefficient (kg/s / %open)\n",
    "u = np.zeros(101) # u = valve % open\n",
    "u[21:70] = 100.0  # open valve between 2 and 7 seconds\n",
    "\n",
    "# level initial condition\n",
    "Level0 = 0\n",
    "\n",
    "# for storing the results\n",
    "z = np.zeros(101)\n",
    "\n",
    "# simulate with ODEINT\n",
    "for i in range(100):\n",
    "    valve = u[i+1]\n",
    "    y = odeint(tank,Level0,[0,0.1],args=(c,valve))\n",
    "    Level0 = y[-1] # take the last point\n",
    "    z[i+1] = Level0 # store the level for plotting\n",
    "\n",
    "    \n",
    "print('Starting Level = {0:.3f}, Final Level = {1:.3f}'.format(z[0], z[-1]))\n",
    "# plot results\n",
    "plt.figure()\n",
    "plt.subplot(2,1,1)\n",
    "plt.plot(ts,z,'b-',linewidth=3)\n",
    "plt.ylabel('Tank Level')\n",
    "plt.subplot(2,1,2)\n",
    "plt.plot(ts,u,'r--',linewidth=3)\n",
    "plt.ylabel('Valve')    \n",
    "plt.xlabel('Time (sec)')\n",
    "plt.show()"
   ]
  },
  {
   "cell_type": "code",
   "execution_count": null,
   "metadata": {},
   "outputs": [],
   "source": []
  }
 ],
 "metadata": {
  "kernelspec": {
   "display_name": "Python 3",
   "language": "python",
   "name": "python3"
  },
  "language_info": {
   "codemirror_mode": {
    "name": "ipython",
    "version": 3
   },
   "file_extension": ".py",
   "mimetype": "text/x-python",
   "name": "python",
   "nbconvert_exporter": "python",
   "pygments_lexer": "ipython3",
   "version": "3.7.3"
  }
 },
 "nbformat": 4,
 "nbformat_minor": 4
}
