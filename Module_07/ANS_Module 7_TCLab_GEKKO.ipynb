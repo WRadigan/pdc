{
 "cells": [
  {
   "cell_type": "code",
   "execution_count": 2,
   "metadata": {},
   "outputs": [
    {
     "name": "stdout",
     "output_type": "stream",
     "text": [
      "    time    u         y\n",
      "0    0.0  0.0  0.000000\n",
      "1    0.8  0.0  0.000000\n",
      "2    1.6  0.0  0.000000\n",
      "3    2.4  0.0  0.000000\n",
      "4    3.2  0.0  0.000000\n",
      "5    4.0  1.0  0.000021\n",
      "6    4.8  1.0  0.005286\n",
      "7    5.6  1.0  0.075424\n",
      "8    6.4  1.0  0.342602\n",
      "9    7.2  1.0  0.850127\n",
      "10   8.0  1.0  1.473414\n",
      "11   8.8  1.0  2.042382\n",
      "12   9.6  1.0  2.461702\n",
      "13  10.4  1.0  2.724682\n",
      "14  11.2  1.0  2.870105\n",
      "15  12.0  1.0  2.942806\n",
      "16  12.8  1.0  2.976270\n",
      "17  13.6  1.0  2.990648\n",
      "18  14.4  1.0  2.996477\n",
      "19  15.2  1.0  2.998724\n",
      "20  16.0  0.1  2.999534\n",
      "21  16.8  0.1  2.995092\n",
      "22  17.6  0.1  2.932069\n",
      "23  18.4  0.1  2.691642\n",
      "24  19.2  0.1  2.234880\n",
      "25  20.0  0.1  1.673926\n",
      "26  20.8  0.1  1.161855\n",
      "27  21.6  0.1  0.784468\n",
      "28  22.4  0.1  0.547786\n",
      "29  23.2  0.1  0.416906\n",
      "30  24.0  0.5  0.351483\n",
      "31  24.8  0.5  0.323471\n",
      "32  25.6  0.5  0.338586\n",
      "33  26.4  0.5  0.440212\n",
      "34  27.2  0.5  0.641200\n",
      "35  28.0  0.5  0.889767\n",
      "36  28.8  0.5  1.117089\n",
      "37  29.6  0.5  1.284726\n",
      "38  30.4  0.5  1.389887\n",
      "39  31.2  0.5  1.448046\n",
      "40  32.0  0.5  1.477124\n",
      "41  32.8  0.5  1.490508\n",
      "42  33.6  0.5  1.496260\n",
      "43  34.4  0.5  1.498591\n",
      "44  35.2  0.5  1.499490\n",
      "45  36.0  0.5  1.499821\n",
      "46  36.8  0.5  1.499939\n",
      "47  37.6  0.5  1.499980\n",
      "48  38.4  0.5  1.499994\n",
      "49  39.2  0.5  1.499998\n",
      "50  40.0  0.5  1.499999\n",
      "Kp:  3.0282795922\n",
      "taup:  1.709427596\n",
      "thetap:  3.13970009\n"
     ]
    },
    {
     "data": {
      "image/png": "[encoded data removed]",
      "text/plain": [
       "<Figure size 432x288 with 2 Axes>"
      ]
     },
     "metadata": {
      "needs_background": "light"
     },
     "output_type": "display_data"
    }
   ],
   "source": [
    "import numpy as np\n",
    "import pandas as pd\n",
    "from gekko import GEKKO\n",
    "import matplotlib.pyplot as plt\n",
    "\n",
    "# Import CSV data file\n",
    "# Column 1 = time (t)\n",
    "# Column 2 = input (u)\n",
    "# Column 3 = output (yp)\n",
    "url = 'http://apmonitor.com/pdc/uploads/Main/data_fopdt.txt'\n",
    "data = pd.read_csv(url)\n",
    "t = data['time'].values - data['time'].values[0]\n",
    "u = data['u'].values\n",
    "y = data['y'].values\n",
    "\n",
    "print(data)\n",
    "\n",
    "m = GEKKO(remote=False)\n",
    "m.time = t; time = m.Var(0); m.Equation(time.dt()==1)\n",
    "\n",
    "K = m.FV(2,lb=0,ub=10);      K.STATUS=1\n",
    "tau = m.FV(3,lb=1,ub=200);  tau.STATUS=1\n",
    "theta = m.FV(0,lb=0,ub=30); theta.STATUS=1\n",
    "\n",
    "# create cubic spline with t versus u\n",
    "uc = m.Var(u); tc = m.Var(t); m.Equation(tc==time-theta)\n",
    "m.cspline(tc,uc,t,u,bound_x=False)\n",
    "\n",
    "ym = m.Param(y); yp = m.Var(y)\n",
    "m.Equation(tau*yp.dt()+(yp-y[0])==K*(uc-u[0]))\n",
    "\n",
    "m.Minimize((yp-ym)**2)\n",
    "\n",
    "m.options.IMODE=5\n",
    "m.solve(disp = False)\n",
    "\n",
    "print('Kp: ', K.value[0])\n",
    "print('taup: ',  tau.value[0])\n",
    "print('thetap: ', theta.value[0])\n",
    "\n",
    "# plot results\n",
    "plt.figure()\n",
    "plt.subplot(2,1,1)\n",
    "plt.plot(t,y,'k.-',lw=2,label='Process Data')\n",
    "plt.plot(t,yp.value,'r--',lw=2,label='Optimized FOPDT')\n",
    "plt.ylabel('Output')\n",
    "plt.legend()\n",
    "plt.subplot(2,1,2)\n",
    "plt.plot(t,u,'b.-',lw=2,label='u')\n",
    "plt.legend()\n",
    "plt.ylabel('Input')\n",
    "plt.show()"
   ]
  },
  {
   "cell_type": "code",
   "execution_count": null,
   "metadata": {},
   "outputs": [],
   "source": []
  }
 ],
 "metadata": {
  "kernelspec": {
   "display_name": "Python 3",
   "language": "python",
   "name": "python3"
  },
  "language_info": {
   "codemirror_mode": {
    "name": "ipython",
    "version": 3
   },
   "file_extension": ".py",
   "mimetype": "text/x-python",
   "name": "python",
   "nbconvert_exporter": "python",
   "pygments_lexer": "ipython3",
   "version": "3.7.3"
  }
 },
 "nbformat": 4,
 "nbformat_minor": 4
}
