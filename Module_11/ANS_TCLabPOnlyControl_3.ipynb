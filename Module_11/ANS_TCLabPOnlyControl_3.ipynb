{
 "cells": [
  {
   "cell_type": "code",
   "execution_count": 1,
   "metadata": {},
   "outputs": [
    {
     "name": "stdout",
     "output_type": "stream",
     "text": [
      "TCLab version 0.4.9\n",
      "--- Serial Ports ---\n"
     ]
    },
    {
     "ename": "RuntimeError",
     "evalue": "No Arduino device found.",
     "output_type": "error",
     "traceback": [
      "\u001b[1;31m---------------------------------------------------------------------------\u001b[0m",
      "\u001b[1;31mRuntimeError\u001b[0m                              Traceback (most recent call last)",
      "\u001b[1;32m<ipython-input-1-4c6a46062b90>\u001b[0m in \u001b[0;36m<module>\u001b[1;34m\u001b[0m\n\u001b[0;32m     12\u001b[0m \u001b[0mn\u001b[0m \u001b[1;33m=\u001b[0m \u001b[1;36m600\u001b[0m  \u001b[1;31m# Number of second time points (10 min)\u001b[0m\u001b[1;33m\u001b[0m\u001b[1;33m\u001b[0m\u001b[0m\n\u001b[0;32m     13\u001b[0m \u001b[0mtm\u001b[0m \u001b[1;33m=\u001b[0m \u001b[0mnp\u001b[0m\u001b[1;33m.\u001b[0m\u001b[0mlinspace\u001b[0m\u001b[1;33m(\u001b[0m\u001b[1;36m0\u001b[0m\u001b[1;33m,\u001b[0m\u001b[0mn\u001b[0m\u001b[1;33m-\u001b[0m\u001b[1;36m1\u001b[0m\u001b[1;33m,\u001b[0m\u001b[0mn\u001b[0m\u001b[1;33m)\u001b[0m \u001b[1;31m# Time values\u001b[0m\u001b[1;33m\u001b[0m\u001b[1;33m\u001b[0m\u001b[0m\n\u001b[1;32m---> 14\u001b[1;33m \u001b[0mlab\u001b[0m \u001b[1;33m=\u001b[0m \u001b[0mtclab\u001b[0m\u001b[1;33m.\u001b[0m\u001b[0mTCLab\u001b[0m\u001b[1;33m(\u001b[0m\u001b[1;33m)\u001b[0m\u001b[1;33m\u001b[0m\u001b[1;33m\u001b[0m\u001b[0m\n\u001b[0m\u001b[0;32m     15\u001b[0m \u001b[0mT1\u001b[0m \u001b[1;33m=\u001b[0m \u001b[0mnp\u001b[0m\u001b[1;33m.\u001b[0m\u001b[0mzeros\u001b[0m\u001b[1;33m(\u001b[0m\u001b[0mn\u001b[0m\u001b[1;33m)\u001b[0m\u001b[1;33m\u001b[0m\u001b[1;33m\u001b[0m\u001b[0m\n\u001b[0;32m     16\u001b[0m \u001b[0mQ1\u001b[0m \u001b[1;33m=\u001b[0m \u001b[0mnp\u001b[0m\u001b[1;33m.\u001b[0m\u001b[0mzeros\u001b[0m\u001b[1;33m(\u001b[0m\u001b[0mn\u001b[0m\u001b[1;33m)\u001b[0m\u001b[1;33m\u001b[0m\u001b[1;33m\u001b[0m\u001b[0m\n",
      "\u001b[1;32mC:\\ProgramData\\Anaconda3\\lib\\site-packages\\tclab\\tclab.py\u001b[0m in \u001b[0;36m__init__\u001b[1;34m(self, port, debug)\u001b[0m\n\u001b[0;32m     59\u001b[0m         \u001b[0mself\u001b[0m\u001b[1;33m.\u001b[0m\u001b[0mport\u001b[0m\u001b[1;33m,\u001b[0m \u001b[0mself\u001b[0m\u001b[1;33m.\u001b[0m\u001b[0marduino\u001b[0m \u001b[1;33m=\u001b[0m \u001b[0mfind_arduino\u001b[0m\u001b[1;33m(\u001b[0m\u001b[0mport\u001b[0m\u001b[1;33m)\u001b[0m\u001b[1;33m\u001b[0m\u001b[1;33m\u001b[0m\u001b[0m\n\u001b[0;32m     60\u001b[0m         \u001b[1;32mif\u001b[0m \u001b[0mself\u001b[0m\u001b[1;33m.\u001b[0m\u001b[0mport\u001b[0m \u001b[1;32mis\u001b[0m \u001b[1;32mNone\u001b[0m\u001b[1;33m:\u001b[0m\u001b[1;33m\u001b[0m\u001b[1;33m\u001b[0m\u001b[0m\n\u001b[1;32m---> 61\u001b[1;33m             \u001b[1;32mraise\u001b[0m \u001b[0mRuntimeError\u001b[0m\u001b[1;33m(\u001b[0m\u001b[1;34m'No Arduino device found.'\u001b[0m\u001b[1;33m)\u001b[0m\u001b[1;33m\u001b[0m\u001b[1;33m\u001b[0m\u001b[0m\n\u001b[0m\u001b[0;32m     62\u001b[0m \u001b[1;33m\u001b[0m\u001b[0m\n\u001b[0;32m     63\u001b[0m         \u001b[1;32mtry\u001b[0m\u001b[1;33m:\u001b[0m\u001b[1;33m\u001b[0m\u001b[1;33m\u001b[0m\u001b[0m\n",
      "\u001b[1;31mRuntimeError\u001b[0m: No Arduino device found."
     ]
    }
   ],
   "source": [
    "import numpy as np\n",
    "import matplotlib.pyplot as plt\n",
    "import tclab\n",
    "import time\n",
    "\n",
    "# -----------------------------\n",
    "# Adjust controller gain (Kc)\n",
    "#  from ITAE tuning correlation\n",
    "# -----------------------------\n",
    "Kc = 4.45\n",
    "\n",
    "n = 600  # Number of second time points (10 min)\n",
    "tm = np.linspace(0,n-1,n) # Time values\n",
    "lab = tclab.TCLab()\n",
    "T1 = np.zeros(n)\n",
    "Q1 = np.zeros(n)\n",
    "# step setpoint from 23.0 to 60.0 degC\n",
    "SP1 = np.ones(n)*23.0\n",
    "SP1[10:] = 60.0\n",
    "Q1_bias = 0.0\n",
    "for i in range(n):\n",
    "    # record measurement\n",
    "    T1[i] = lab.T1\n",
    "\n",
    "    # --------------------------------------------------\n",
    "    # fill-in P-only controller equation to change Q1[i]\n",
    "    # --------------------------------------------------\n",
    "    Q1[i] = Q1_bias + Kc * (SP1[i]-T1[i])\n",
    "\n",
    "    # implement new heater value\n",
    "    Q1[i] = max(0,min(100,Q1[i])) # clip to 0-100%\n",
    "    lab.Q1(Q1[i])\n",
    "    if i%20==0:\n",
    "        print(' Heater,   Temp,  Setpoint')\n",
    "    print(f'{Q1[i]:7.2f},{T1[i]:7.2f},{SP1[i]:7.2f}')\n",
    "    # wait for 1 sec\n",
    "    time.sleep(1)\n",
    "lab.close()\n",
    "# Save data file\n",
    "data = np.vstack((tm,Q1,T1,SP1)).T\n",
    "np.savetxt('P-only.csv',data,delimiter=',',\\\n",
    "           header='Time,Q1,T1,SP1',comments='')\n",
    "\n",
    "# Create Figure\n",
    "plt.figure(figsize=(10,7))\n",
    "ax = plt.subplot(2,1,1)\n",
    "ax.grid()\n",
    "plt.plot(tm/60.0,SP1,'k-',label=r'$T_1$ SP')\n",
    "plt.plot(tm/60.0,T1,'r.',label=r'$T_1$ PV')\n",
    "plt.text(6.1,30,'Measured Offset: ' + str(np.round(SP1[-1]-T1[-1],2)))\n",
    "offset = 60 - (23+0.9*Kc*60)/(1+0.9*Kc)\n",
    "plt.text(6.1,26,'Calculated Offset: ' + str(np.round(offset,2)))\n",
    "plt.text(6.1,22,r'$K_c$: ' + str(np.round(Kc,2)))  \n",
    "plt.plot([tm[-1]/60.0,tm[-1]/60.0],[SP1[-1],T1[-1]],\\\n",
    "         'b-',lw=3,alpha=0.5)\n",
    "plt.ylabel(r'Temp ($^oC$)')\n",
    "plt.xlim([0,10])\n",
    "plt.legend(loc=2)\n",
    "ax = plt.subplot(2,1,2)\n",
    "ax.grid()\n",
    "plt.plot(tm/60.0,Q1,'b-',label=r'$Q_1$')\n",
    "plt.ylabel(r'Heater (%)')\n",
    "plt.xlabel('Time (min)')\n",
    "plt.legend(loc=1)\n",
    "plt.savefig('P-only_Control.png')\n",
    "plt.show()"
   ]
  },
  {
   "cell_type": "code",
   "execution_count": null,
   "metadata": {},
   "outputs": [],
   "source": []
  }
 ],
 "metadata": {
  "kernelspec": {
   "display_name": "Python 3",
   "language": "python",
   "name": "python3"
  },
  "language_info": {
   "codemirror_mode": {
    "name": "ipython",
    "version": 3
   },
   "file_extension": ".py",
   "mimetype": "text/x-python",
   "name": "python",
   "nbconvert_exporter": "python",
   "pygments_lexer": "ipython3",
   "version": "3.7.3"
  }
 },
 "nbformat": 4,
 "nbformat_minor": 4
}
