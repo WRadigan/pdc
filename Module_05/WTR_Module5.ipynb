{
 "cells": [
  {
   "cell_type": "code",
   "execution_count": 1,
   "metadata": {},
   "outputs": [
    {
     "data": {
      "image/png": "[encoded data removed]",
      "text/latex": [
       "$\\displaystyle dx/dt = \\sqrt{u} - x^{2}$"
      ],
      "text/plain": [
       "              2\n",
       "dx/dt = √u - x "
      ]
     },
     "metadata": {},
     "output_type": "display_data"
    },
    {
     "name": "stdout",
     "output_type": "stream",
     "text": [
      "-2*x\n",
      "1/(2*sqrt(u))\n"
     ]
    },
    {
     "data": {
      "text/plain": [
       "'dxdt:'"
      ]
     },
     "metadata": {},
     "output_type": "display_data"
    },
    {
     "data": {
      "image/png": "[encoded data removed]",
      "text/latex": [
       "$\\displaystyle \\sqrt{u} - x^{2}$"
      ],
      "text/plain": [
       "      2\n",
       "√u - x "
      ]
     },
     "metadata": {},
     "output_type": "display_data"
    },
    {
     "data": {
      "text/plain": [
       "'Derivative of dx/dt with respect to x'"
      ]
     },
     "metadata": {},
     "output_type": "display_data"
    },
    {
     "data": {
      "image/png": "[encoded data removed]",
      "text/latex": [
       "$\\displaystyle - 2 x$"
      ],
      "text/plain": [
       "-2⋅x"
      ]
     },
     "metadata": {},
     "output_type": "display_data"
    },
    {
     "data": {
      "text/plain": [
       "'Derivative of dx/dt with respect to u'"
      ]
     },
     "metadata": {},
     "output_type": "display_data"
    },
    {
     "data": {
      "image/png": "[encoded data removed]",
      "text/latex": [
       "$\\displaystyle \\frac{1}{2 \\sqrt{u}}$"
      ],
      "text/plain": [
       " 1  \n",
       "────\n",
       "2⋅√u"
      ]
     },
     "metadata": {},
     "output_type": "display_data"
    },
    {
     "name": "stdout",
     "output_type": "stream",
     "text": [
      "Approximate Partial Derivatives\n",
      "-4.000000000004\n",
      "0.12499999999970868\n",
      "Exact Partial Derivatives\n",
      "-4.0\n",
      "0.125\n"
     ]
    }
   ],
   "source": [
    "# analytic solution with Python\n",
    "from IPython.display import display, Markdown\n",
    "import sympy as sp\n",
    "sp.init_printing()\n",
    "# define symbols\n",
    "x,u = sp.symbols(['x','u'])\n",
    "\n",
    "dxdt_symbol = sp.symbols('dx/dt')\n",
    "# define equation\n",
    "dxdt = -x**2 + sp.sqrt(u)\n",
    "\n",
    "#display(dxdt_symbol)\n",
    "jnk = sp.Eq(dxdt_symbol,dxdt)\n",
    "display(jnk)\n",
    "\n",
    "print(sp.diff(dxdt,x))\n",
    "print(sp.diff(dxdt,u))\n",
    "\n",
    "display('dxdt:')\n",
    "display(dxdt)\n",
    "display('Derivative of dx/dt with respect to x')\n",
    "display(sp.diff(dxdt,x))\n",
    "display('Derivative of dx/dt with respect to u')\n",
    "display(sp.diff(dxdt,u))\n",
    "\n",
    "# numeric solution with Python\n",
    "import numpy as np\n",
    "from scipy.misc import derivative\n",
    "u = 16.0\n",
    "x = 2.0\n",
    "def pd_x(x):\n",
    "    dxdt = -x**2 + np.sqrt(u)\n",
    "    return dxdt\n",
    "def pd_u(u):\n",
    "    dxdt = -x**2 + np.sqrt(u)\n",
    "    return dxdt\n",
    "\n",
    "print('Approximate Partial Derivatives')\n",
    "print(derivative(pd_x,x,dx=1e-4))\n",
    "print(derivative(pd_u,u,dx=1e-4))\n",
    "\n",
    "print('Exact Partial Derivatives')\n",
    "print(-2.0*x) # exact d(f(x,u))/dx\n",
    "print(0.5 / np.sqrt(u)) # exact d(f(x,u))/du"
   ]
  },
  {
   "cell_type": "code",
   "execution_count": 2,
   "metadata": {},
   "outputs": [
    {
     "data": {
      "application/vnd.jupyter.widget-view+json": {
       "model_id": "b9ef1e28c3d0409c8a5aa63142d44624",
       "version_major": 2,
       "version_minor": 0
      },
      "text/plain": [
       "Canvas(toolbar=Toolbar(toolitems=[('Home', 'Reset original view', 'home', 'home'), ('Back', 'Back to previous …"
      ]
     },
     "metadata": {},
     "output_type": "display_data"
    }
   ],
   "source": [
    "from mpl_toolkits.mplot3d import Axes3D\n",
    "import matplotlib.pyplot as plt\n",
    "from matplotlib import cm\n",
    "from matplotlib.ticker import LinearLocator, FormatStrFormatter\n",
    "import numpy as np\n",
    "\n",
    "%matplotlib widget\n",
    "\n",
    "fig = plt.figure()\n",
    "ax = fig.gca(projection='3d')\n",
    "\n",
    "# Make data.\n",
    "X = np.arange(0, 4, 0.25)\n",
    "U = np.arange(0, 20, 0.25)\n",
    "X, U = np.meshgrid(X, U)\n",
    "DXDT = -X**2 + np.sqrt(U)\n",
    "LIN = -4.0 * (X-2.0) + 1.0/8.0 * (U-16.0)\n",
    "\n",
    "# Plot the surface.\n",
    "surf = ax.plot_wireframe(X, U, LIN)\n",
    "surf = ax.plot_surface(X, U, DXDT, cmap=cm.coolwarm,\n",
    "                       linewidth=0, antialiased=False)\n",
    "\n",
    "# Customize the z axis.\n",
    "ax.set_zlim(-10.0, 5.0)\n",
    "ax.zaxis.set_major_locator(LinearLocator(10))\n",
    "ax.zaxis.set_major_formatter(FormatStrFormatter('%.02f'))\n",
    "\n",
    "# Add a color bar which maps values to colors.\n",
    "fig.colorbar(surf, shrink=0.5, aspect=5)\n",
    "\n",
    "# Add labels\n",
    "plt.xlabel('x')\n",
    "plt.ylabel('u')\n",
    "\n",
    "plt.show()"
   ]
  },
  {
   "cell_type": "code",
   "execution_count": 3,
   "metadata": {},
   "outputs": [
    {
     "data": {
      "application/vnd.jupyter.widget-view+json": {
       "model_id": "e2e758a8942f4235a90041cc2f491a24",
       "version_major": 2,
       "version_minor": 0
      },
      "text/plain": [
       "Canvas(toolbar=Toolbar(toolitems=[('Home', 'Reset original view', 'home', 'home'), ('Back', 'Back to previous …"
      ]
     },
     "metadata": {},
     "output_type": "display_data"
    }
   ],
   "source": [
    "import numpy as np\n",
    "from scipy.integrate import odeint\n",
    "import matplotlib.pyplot as plt\n",
    "\n",
    "# function that returns dz/dt\n",
    "def model(z,t,u):\n",
    "    x1 = z[0]\n",
    "    x2 = z[1]\n",
    "    dx1dt = -x1**2 + np.sqrt(u)\n",
    "    dx2dt = -4.0*(x2-2.0) + (1.0/8.0)*(u-16.0)\n",
    "    dzdt = [dx1dt,dx2dt]\n",
    "    return dzdt\n",
    "\n",
    "# steady state conditions\n",
    "x_ss = 2.0\n",
    "u_ss = 16.0\n",
    "\n",
    "# initial condition\n",
    "z0 = [x_ss,x_ss]\n",
    "\n",
    "# final time\n",
    "tf = 10\n",
    "\n",
    "# number of time points\n",
    "n = tf * 10 + 1\n",
    "\n",
    "# time points\n",
    "t = np.linspace(0,tf,n)\n",
    "\n",
    "# step input\n",
    "u = np.ones(n) * u_ss\n",
    "# magnitude of step\n",
    "m = 1.0\n",
    "# change up m at time = 1.0\n",
    "u[11:] = u[11:] + m\n",
    "# change down 2*m at time = 4.0\n",
    "u[41:] = u[41:] - 2.0 * m\n",
    "# change up m at time = 7.0\n",
    "u[71:] = u[71:] + m\n",
    "\n",
    "# store solution\n",
    "x1 = np.empty_like(t)\n",
    "x2 = np.empty_like(t)\n",
    "# record initial conditions\n",
    "x1[0] = z0[0]\n",
    "x2[0] = z0[1]\n",
    "\n",
    "# solve ODE\n",
    "for i in range(1,n):\n",
    "    # span for next time step\n",
    "    tspan = [t[i-1],t[i]]\n",
    "    # solve for next step\n",
    "    z = odeint(model,z0,tspan,args=(u[i],))\n",
    "    # store solution for plotting\n",
    "    x1[i] = z[1][0]\n",
    "    x2[i] = z[1][1]\n",
    "    # next initial condition\n",
    "    z0 = z[1] \n",
    "\n",
    "# plot results\n",
    "plt.figure()\n",
    "plt.subplot(2,1,1)\n",
    "plt.plot(t,u,'g-',linewidth=3,label='u(t) Doublet Test')\n",
    "plt.grid()\n",
    "plt.legend(loc='best')\n",
    "plt.subplot(2,1,2)\n",
    "plt.plot(t,x1,'b-',linewidth=3,label='x(t) Nonlinear')\n",
    "plt.plot(t,x2,'r--',linewidth=3,label='x(t) Linear')\n",
    "plt.xlabel('time')\n",
    "plt.grid()\n",
    "plt.legend(loc='best')\n",
    "plt.show()"
   ]
  },
  {
   "cell_type": "code",
   "execution_count": 34,
   "metadata": {},
   "outputs": [
    {
     "name": "stdout",
     "output_type": "stream",
     "text": [
      "-0.440504467457193\n"
     ]
    },
    {
     "data": {
      "image/png": "[encoded data removed]",
      "text/latex": [
       "$\\displaystyle - \\frac{0.666666666666667 u - 0.333333333333333 \\cos{\\left(u \\right)}}{\\left(u^{2} - \\sin{\\left(u \\right)}\\right)^{0.666666666666667}}$"
      ],
      "text/plain": [
       "                                                               -0.666666666666\n",
       "                                                  ⎛ 2         ⎞               \n",
       "-(0.666666666666667⋅u - 0.333333333333333⋅cos(u))⋅⎝u  - sin(u)⎠               \n",
       "\n",
       "667\n",
       "   \n",
       "   "
      ]
     },
     "metadata": {},
     "output_type": "display_data"
    },
    {
     "data": {
      "image/png": "[encoded data removed]",
      "text/latex": [
       "$\\displaystyle - \\frac{2.66666666666667 - 0.333333333333333 \\cos{\\left(4 \\right)}}{\\left(16 - \\sin{\\left(4 \\right)}\\right)^{0.666666666666667}}$"
      ],
      "text/plain": [
       "                                                            -0.666666666666667\n",
       "-(2.66666666666667 - 0.333333333333333⋅cos(4))⋅(16 - sin(4))                  "
      ]
     },
     "metadata": {},
     "output_type": "display_data"
    },
    {
     "data": {
      "image/png": "[encoded data removed]",
      "text/latex": [
       "$\\displaystyle B = - \\frac{0.666666666666667 u - 0.333333333333333 \\cos{\\left(u \\right)}}{\\left(u^{2} - \\sin{\\left(u \\right)}\\right)^{0.666666666666667}}$"
      ],
      "text/plain": [
       "                                                                   -0.66666666\n",
       "                                                      ⎛ 2         ⎞           \n",
       "Β = -(0.666666666666667⋅u - 0.333333333333333⋅cos(u))⋅⎝u  - sin(u)⎠           \n",
       "\n",
       "6666667\n",
       "       \n",
       "       "
      ]
     },
     "metadata": {},
     "output_type": "display_data"
    },
    {
     "data": {
      "image/png": "[encoded data removed]",
      "text/latex": [
       "$\\displaystyle B = -0.4405$"
      ],
      "text/plain": [
       "Β = -0.4405"
      ]
     },
     "metadata": {},
     "output_type": "display_data"
    },
    {
     "name": "stdout",
     "output_type": "stream",
     "text": [
      "sympify:\n"
     ]
    },
    {
     "data": {
      "image/png": "[encoded data removed]",
      "text/latex": [
       "$\\displaystyle B = - \\frac{0.6667 u - 0.3333 \\cos{\\left(u \\right)}}{\\left(u^{2} - \\sin{\\left(u \\right)}\\right)^{0.6667}}$"
      ],
      "text/plain": [
       "                                             -0.6667\n",
       "                                ⎛ 2         ⎞       \n",
       "Β = -(0.6667⋅u - 0.3333⋅cos(u))⋅⎝u  - sin(u)⎠       "
      ]
     },
     "metadata": {},
     "output_type": "display_data"
    },
    {
     "data": {
      "image/png": "[encoded data removed]",
      "text/latex": [
       "$\\displaystyle B$"
      ],
      "text/plain": [
       "Β"
      ]
     },
     "metadata": {},
     "output_type": "display_data"
    },
    {
     "data": {
      "image/png": "[encoded data removed]",
      "text/latex": [
       "$\\displaystyle - \\frac{0.6667 u - 0.3333 \\cos{\\left(u \\right)}}{\\left(u^{2} - \\sin{\\left(u \\right)}\\right)^{0.6667}}$"
      ],
      "text/plain": [
       "                                         -0.6667\n",
       "                            ⎛ 2         ⎞       \n",
       "-(0.6667⋅u - 0.3333⋅cos(u))⋅⎝u  - sin(u)⎠       "
      ]
     },
     "metadata": {},
     "output_type": "display_data"
    },
    {
     "data": {
      "image/png": "[encoded data removed]",
      "text/latex": [
       "$\\displaystyle -0.6095$"
      ],
      "text/plain": [
       "-0.6095"
      ]
     },
     "metadata": {},
     "output_type": "display_data"
    },
    {
     "data": {
      "image/png": "[encoded data removed]",
      "text/latex": [
       "$\\displaystyle 99.39053344726562$"
      ],
      "text/plain": [
       "99.39053344726562"
      ]
     },
     "metadata": {},
     "output_type": "display_data"
    },
    {
     "data": {
      "image/png": "[encoded data removed]",
      "text/latex": [
       "$\\displaystyle 99.39053344726562$"
      ],
      "text/plain": [
       "99.39053344726562"
      ]
     },
     "metadata": {},
     "output_type": "display_data"
    }
   ],
   "source": [
    "# analytic solution with Python\n",
    "import sympy as sp\n",
    "# define symbols\n",
    "y,u,d,Beta = sp.symbols(['y','u','d','Beta'])\n",
    "# define equation\n",
    "dydt = 3*y**3-(u**2-sp.sin(u))**(1/3)+sp.log(d)\n",
    "# partial derivative with respect to u\n",
    "beta_equation = sp.Eq(Beta,sp.diff(dydt,u))\n",
    "# evaluate at steady state condition\n",
    "print(beta.subs(u,4).evalf())\n",
    "\n",
    "display(beta)\n",
    "display(beta.subs(u,4))\n",
    "\n",
    "display(beta_equation)\n",
    "display(beta_equation.subs(u,4).evalf(4))\n",
    "print('sympify:')\n",
    "display(sp.sympify(beta_equation.evalf(4)))\n",
    "display(sp.sympify(beta_equation.evalf(4).lhs))\n",
    "display(sp.sympify(beta_equation.evalf(4).rhs))\n",
    "display(sp.sympify(beta_equation.subs(u,2.5).evalf(4).rhs))\n",
    "display(float(sp.sympify(beta_equation.subs(u,2.5).evalf(4).rhs)) + 100.0)\n",
    "display(float(beta_equation.subs(u,2.5).evalf(4).rhs) + 100.0)"
   ]
  },
  {
   "cell_type": "code",
   "execution_count": 16,
   "metadata": {},
   "outputs": [
    {
     "data": {
      "image/png": "[encoded data removed]",
      "text/latex": [
       "$\\displaystyle 3 y^{3} - \\left(u^{2} - \\sin{\\left(u \\right)}\\right)^{0.333333333333333} + \\log{\\left(d \\right)}$"
      ],
      "text/plain": [
       "                    0.333333333333333         \n",
       "   3   ⎛ 2         ⎞                          \n",
       "3⋅y  - ⎝u  - sin(u)⎠                  + log(d)"
      ]
     },
     "metadata": {},
     "output_type": "display_data"
    },
    {
     "data": {
      "image/png": "[encoded data removed]",
      "text/latex": [
       "$\\displaystyle - \\left(u^{2} - \\sin{\\left(u \\right)}\\right)^{0.333333333333333} + \\log{\\left(d \\right)} + 24.0$"
      ],
      "text/plain": [
       "               0.333333333333333                \n",
       "  ⎛ 2         ⎞                                 \n",
       "- ⎝u  - sin(u)⎠                  + log(d) + 24.0"
      ]
     },
     "metadata": {},
     "output_type": "display_data"
    },
    {
     "data": {
      "image/png": "[encoded data removed]",
      "text/latex": [
       "$\\displaystyle 3.0 y^{3} - 1.86581411350742$"
      ],
      "text/plain": [
       "     3                   \n",
       "3.0⋅y  - 1.86581411350742"
      ]
     },
     "metadata": {},
     "output_type": "display_data"
    },
    {
     "data": {
      "image/png": "[encoded data removed]",
      "text/latex": [
       "$\\displaystyle 22.1341858864926$"
      ],
      "text/plain": [
       "22.1341858864926"
      ]
     },
     "metadata": {},
     "output_type": "display_data"
    }
   ],
   "source": [
    "display(dydt)\n",
    "display(dydt.subs(y,2).evalf())\n",
    "display(dydt.subs(u,4).subs(d,2).evalf())\n",
    "display(dydt.subs(y,2).subs(u,4).subs(d,2).evalf())"
   ]
  },
  {
   "cell_type": "code",
   "execution_count": 6,
   "metadata": {},
   "outputs": [
    {
     "data": {
      "application/vnd.jupyter.widget-view+json": {
       "model_id": "1f02630ce8dc40b8924b2d3389bcfcc6",
       "version_major": 2,
       "version_minor": 0
      },
      "text/plain": [
       "Canvas(toolbar=Toolbar(toolitems=[('Home', 'Reset original view', 'home', 'home'), ('Back', 'Back to previous …"
      ]
     },
     "metadata": {},
     "output_type": "display_data"
    }
   ],
   "source": [
    "\n",
    "import numpy as np\n",
    "import matplotlib.pyplot as plt\n",
    "from scipy.integrate import odeint\n",
    "\n",
    "# define thermocouple model\n",
    "def thermocouple(x,t,Tg,Tf):\n",
    "    ## States\n",
    "    Tt = x[0] \n",
    "    Tlin = x[1]\n",
    "\n",
    "    ## Parameters\n",
    "    h = 2800.0            # W/m^2-K\n",
    "    rho = 20.0            # gm/cm^3\n",
    "    sigma = 5.67e-8       # W/m^2-K^4\n",
    "    eps = 0.8             #\n",
    "    Cp = 0.4              # J/gm-K    \n",
    "    d = 0.01              # cm\n",
    "    r = d / 2.0           # radius\n",
    "    A = 4.0 * np.pi * (r/100.0)**2 # sphere area (m^2)\n",
    "    V = 4.0/3.0 * np.pi * r**3 # sphere volume (cm^3)\n",
    "\n",
    "    # acc = inlet - outlet\n",
    "    # acc = m * Cp * dT/dt = rho * V * Cp * dT/dt\n",
    "    # inlet - outlet from 2 heat transfer pathways\n",
    "    # q(convection) = h * A * (Tg-Tt)\n",
    "    # q(radiation) = A * esp * sigma * (Tf^4 - Tt^4)\n",
    "    q_conv = h * A * (Tg-Tt)\n",
    "    q_rad = A * eps * sigma * (Tf**4 - Tt**4)\n",
    "    dTdt = (q_conv + q_rad) / (rho * V * Cp)\n",
    "    dTlin_dt = 0.0 # add linearized equation\n",
    "    return [dTdt,dTlin_dt]\n",
    "\n",
    "# Flame temperature\n",
    "Tf0 = 1500.0 #K\n",
    "\n",
    "# Starting thermocouple temperature\n",
    "y0 = [Tf0,Tf0]\n",
    "\n",
    "# Time Intervals (sec)\n",
    "t = np.linspace(0,0.1,1000)\n",
    "\n",
    "# Flame Temperature\n",
    "Tf = np.ones(len(t))*Tf0\n",
    "Tf[500:] = 1520.0 #K\n",
    "\n",
    "# Gas temperature cycles\n",
    "Tg = Tf + (150.0/2.0) * np.sin(2.0 * np.pi * 100.0 * t) #K\n",
    "\n",
    "# Store thermocouple temperature for plotting\n",
    "Tt = np.ones(len(t)) * Tf\n",
    "Tlin = np.ones(len(t)) * Tf\n",
    "\n",
    "for i in range(len(t)-1):\n",
    "    ts = [t[i],t[i+1]]\n",
    "    y = odeint(thermocouple,y0,ts,args=(Tg[i],Tf[i]))\n",
    "    y0 = y[-1]\n",
    "    Tt[i+1] = y0[0]\n",
    "    Tlin[i+1] = y0[1]\n",
    "\n",
    "# Plot the results\n",
    "plt.figure()\n",
    "plt.plot(t,Tg,'b--',linewidth=3,label='Gas Temperature')\n",
    "plt.plot(t,Tf,'g:',linewidth=3,label='Flame Temperature')\n",
    "plt.plot(t,Tt,'r-',linewidth=3,label='Thermocouple')\n",
    "plt.ylabel('Temperature (K)')\n",
    "plt.legend(loc='best')\n",
    "plt.xlim([0,t[-1]])\n",
    "plt.xlabel('Time (sec)')\n",
    "\n",
    "plt.show()\n"
   ]
  },
  {
   "cell_type": "code",
   "execution_count": null,
   "metadata": {},
   "outputs": [],
   "source": []
  }
 ],
 "metadata": {
  "kernelspec": {
   "display_name": "Python 3",
   "language": "python",
   "name": "python3"
  },
  "language_info": {
   "codemirror_mode": {
    "name": "ipython",
    "version": 3
   },
   "file_extension": ".py",
   "mimetype": "text/x-python",
   "name": "python",
   "nbconvert_exporter": "python",
   "pygments_lexer": "ipython3",
   "version": "3.7.3"
  }
 },
 "nbformat": 4,
 "nbformat_minor": 4
}
