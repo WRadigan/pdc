{
 "cells": [
  {
   "cell_type": "code",
   "execution_count": 1,
   "metadata": {},
   "outputs": [
    {
     "name": "stdout",
     "output_type": "stream",
     "text": [
      "896 joule / kelvin / kilogram\n"
     ]
    }
   ],
   "source": [
    "import numpy as np\n",
    "from scipy.integrate import odeint\n",
    "import matplotlib.pyplot as plt\n",
    "from pytexit import py2tex\n",
    "from IPython.display import Markdown\n",
    "from gekko import GEKKO\n",
    "import pandas as pd\n",
    "from matplotlib import rcParams\n",
    "import os\n",
    "import sys\n",
    "from copy import copy\n",
    "from pytexit import py2tex\n",
    "\n",
    "\n",
    "import sympy as sp\n",
    "sp.init_printing()\n",
    "\n",
    "\n",
    "%matplotlib widget\n",
    "#%matplotlib inline\n",
    "\n",
    "# Look for custom python codes in the Radigan Engineering Vault...\n",
    "sys.path.insert(1, 'C:\\\\\\\\RadiganVault\\\\\\\\Python')\n",
    "\n",
    "import RadiganEngineeringDefaults as RE\n",
    "from RadiganEngineering_Materials_Library import *\n",
    "from RadiganEngineeringTorsionSpring import *\n",
    "from RadiganEngineeringBellevilleSpring import *\n",
    "\n",
    "# Use higher quality figures in PDF exports\n",
    "#rcParams['figure.dpi']= 300\n",
    "#rcParams['figure.figsize'] = [8, 6]\n",
    "set_matplotlib_formats('png', 'pdf')\n",
    "\n",
    "print(ALUMINUM_6061_T6.Specific_Heat)"
   ]
  },
  {
   "cell_type": "code",
   "execution_count": 7,
   "metadata": {},
   "outputs": [
    {
     "data": {
      "text/plain": [
       "'Convection Term:'"
      ]
     },
     "metadata": {},
     "output_type": "display_data"
    },
    {
     "data": {
      "image/png": "[encoded data removed]",
      "text/latex": [
       "$\\displaystyle A h \\left(T_{A} - T_{HS}\\right)$"
      ],
      "text/plain": [
       "A⋅h⋅(T_A - T_HS)"
      ]
     },
     "metadata": {},
     "output_type": "display_data"
    },
    {
     "data": {
      "text/plain": [
       "'Radiation Term:'"
      ]
     },
     "metadata": {},
     "output_type": "display_data"
    },
    {
     "data": {
      "image/png": "[encoded data removed]",
      "text/latex": [
       "$\\displaystyle A \\epsilon \\sigma \\left(T_{A}^{4} - T_{HS}^{4}\\right)$"
      ],
      "text/plain": [
       "      ⎛   4       4⎞\n",
       "A⋅ε⋅σ⋅⎝T_A  - T_HS ⎠"
      ]
     },
     "metadata": {},
     "output_type": "display_data"
    },
    {
     "data": {
      "text/plain": [
       "'Heat Gain Term:'"
      ]
     },
     "metadata": {},
     "output_type": "display_data"
    },
    {
     "data": {
      "image/png": "[encoded data removed]",
      "text/latex": [
       "$\\displaystyle C_{p} Q$"
      ],
      "text/plain": [
       "Cₚ⋅Q"
      ]
     },
     "metadata": {},
     "output_type": "display_data"
    },
    {
     "data": {
      "text/plain": [
       "'Model Equation Right-Hand-Side:'"
      ]
     },
     "metadata": {},
     "output_type": "display_data"
    },
    {
     "data": {
      "image/png": "[encoded data removed]",
      "text/latex": [
       "$\\displaystyle \\frac{A \\epsilon \\sigma \\left(T_{A}^{4} - T_{HS}^{4}\\right) + A h \\left(T_{A} - T_{HS}\\right) + C_{p} Q}{C_{p} m}$"
      ],
      "text/plain": [
       "      ⎛   4       4⎞                          \n",
       "A⋅ε⋅σ⋅⎝T_A  - T_HS ⎠ + A⋅h⋅(T_A - T_HS) + Cₚ⋅Q\n",
       "──────────────────────────────────────────────\n",
       "                     Cₚ⋅m                     "
      ]
     },
     "metadata": {},
     "output_type": "display_data"
    },
    {
     "data": {
      "text/plain": [
       "'Full Model Equation:'"
      ]
     },
     "metadata": {},
     "output_type": "display_data"
    },
    {
     "data": {
      "image/png": "[encoded data removed]",
      "text/latex": [
       "$\\displaystyle dTdt = \\frac{A \\epsilon \\sigma \\left(T_{A}^{4} - T_{HS}^{4}\\right) + A h \\left(T_{A} - T_{HS}\\right) + C_{p} Q}{C_{p} m}$"
      ],
      "text/plain": [
       "             ⎛   4       4⎞                          \n",
       "       A⋅ε⋅σ⋅⎝T_A  - T_HS ⎠ + A⋅h⋅(T_A - T_HS) + Cₚ⋅Q\n",
       "dTdt = ──────────────────────────────────────────────\n",
       "                            Cₚ⋅m                     "
      ]
     },
     "metadata": {},
     "output_type": "display_data"
    },
    {
     "data": {
      "text/plain": [
       "'Model partial derivitive with respect to \"spT_HS\":'"
      ]
     },
     "metadata": {},
     "output_type": "display_data"
    },
    {
     "data": {
      "image/png": "[encoded data removed]",
      "text/latex": [
       "$\\displaystyle \\frac{- 4 A T_{HS}^{3} \\epsilon \\sigma - A h}{C_{p} m}$"
      ],
      "text/plain": [
       "          3          \n",
       "- 4⋅A⋅T_HS ⋅ε⋅σ - A⋅h\n",
       "─────────────────────\n",
       "         Cₚ⋅m        "
      ]
     },
     "metadata": {},
     "output_type": "display_data"
    },
    {
     "data": {
      "text/plain": [
       "'Model partial derivitive with respect to \"sp_Heater_Q\":'"
      ]
     },
     "metadata": {},
     "output_type": "display_data"
    },
    {
     "data": {
      "image/png": "[encoded data removed]",
      "text/latex": [
       "$\\displaystyle \\frac{1}{m}$"
      ],
      "text/plain": [
       "1\n",
       "─\n",
       "m"
      ]
     },
     "metadata": {},
     "output_type": "display_data"
    },
    {
     "data": {
      "application/vnd.jupyter.widget-view+json": {
       "model_id": "33731e00f5c246f99917531e27ae9fbf",
       "version_major": 2,
       "version_minor": 0
      },
      "text/plain": [
       "Canvas(toolbar=Toolbar(toolitems=[('Home', 'Reset original view', 'home', 'home'), ('Back', 'Back to previous …"
      ]
     },
     "metadata": {},
     "output_type": "display_data"
    },
    {
     "name": "stderr",
     "output_type": "stream",
     "text": [
      "C:\\ProgramData\\Anaconda3\\lib\\site-packages\\gekko\\gk_write_files.py:144: UnitStrippedWarning: The unit of the quantity is stripped when downcasting to ndarray.\n",
      "  csv_data = np.hstack(('time',np.array(self.time).flatten().astype(object)))\n"
     ]
    }
   ],
   "source": [
    "# https://apmonitor.com/pdc/index.php/Main/TCLabSim\n",
    "# https://apmonitor.com/pdc/index.php/Main/TCLabConvection\n",
    "\n",
    "# Update model with natural convection estimation.\n",
    "\n",
    "TCLab = GEKKO(remote=False)    # create GEKKO model for dx/dt\n",
    "\n",
    "t_sim = 1500 * ureg.sec # Number of seconds to simulate\n",
    "points_per_second = 1 # Only works if this is the same as the 'sampling frequency' in the cell below...\n",
    "\n",
    "TCLab.time = np.linspace(0, t_sim.magnitude, (t_sim.magnitude * points_per_second) + 1) * ureg.sec # time points\n",
    "\n",
    "# dt is in the units of ________.\n",
    "\n",
    "# --> Inputs (7):\n",
    "T_Ambient = 27.0  # * ureg.degree_Celsius # degC\n",
    "T_Ambient_K = T_Ambient + 273.15\n",
    "#T_Ambient = Q_(26.0, ureg.degC)\n",
    "HS_Mass  = 0.004 * ureg.kg \n",
    "HS_Cp    = 500.0 * (ureg.joule /  (ureg.kg    * ureg.kelvin)) # Heatsink Specific Heat\n",
    "HS_Conv  = 5.0   * (ureg.watt) / ((ureg.m**2) * ureg.kelvin)  # Convection coefficient\n",
    "# NOTE: This lesson changes the convection coefficient from 10 to 5 W/m^2-K, in order to make a better match when including the RADIATION TERM.\n",
    "HS_Area  = 0.0012 * ureg.m**2                                 # Heatsink Surface Area\n",
    "\n",
    "sigma    = 5.67e-8 # W/m2-K4\n",
    "epsilon  = 0.9\n",
    "\n",
    "# Starting temperature for the heatsink.\n",
    "# Might be equal to 'T_Ambient' or something else.\n",
    "#HS_T_Start = T_Ambient\n",
    "#HS_T_Start = Q_(28.0, ureg.degC)\n",
    "HS_T_Start = 27.0 # degC\n",
    "\n",
    "# Curve defining the heater setting over the course of time.\n",
    "HeaterValues = np.zeros(len(TCLab.time))\n",
    "HeaterValues[15:800] = 50\n",
    "#HeaterValues[0:9] = 50\n",
    "Heater_Q  = TCLab.Param(HeaterValues)  # \"Percentage of maximum value\" of the heater\n",
    "\n",
    "C_p       = TCLab.Param(0.01)  # ~= 0.01 Watts / % # This seems a little low, I would have expected more than 1 Watt at full power [100%]\n",
    "\n",
    "# --> States (1): (Variables, with initial conditions)\n",
    "#print('Heatsink Starting Temperature is {0}'.format(HS_T_Start.to('degC').magnitude))\n",
    "HS_Temp_C   = TCLab.Var(HS_T_Start) # GEKKO variable for the temperature of the heatsink\n",
    "\n",
    "# --> Equations (1): \n",
    "HS_Temp_K  = TCLab.Intermediate(HS_Temp_C + 273.15) # Convert to Kelvin for the Radiation term\n",
    "Convection = TCLab.Intermediate(  (HS_Conv.to('watt/(m^2*K)').magnitude * HS_Area.to('m^2').magnitude) * (T_Ambient_K - HS_Temp_K)  )\n",
    "Radiation  = TCLab.Intermediate(  sigma * epsilon * HS_Area.to('m^2').magnitude * (T_Ambient_K**4 - HS_Temp_K**4)  )\n",
    "Loss       = TCLab.Intermediate(Convection + Radiation)\n",
    "Gain       = TCLab.Intermediate(C_p*Heater_Q)\n",
    "\n",
    "\n",
    "# SymPy equations for the partial derivitives\n",
    "sph,spArea,spT_Ambient,spT_HS = sp.symbols(['h','A','T_A','T_HS']) # Convection symbols\n",
    "spConvection                  = (sph * spArea) * (spT_Ambient - spT_HS)\n",
    "display('Convection Term:')\n",
    "display(spConvection)\n",
    "\n",
    "spsigma, spepsilon            = sp.symbols(['sigma','epsilon'])\n",
    "spRadiation                   = spsigma * spepsilon * spArea * (spT_Ambient**4 - spT_HS**4)\n",
    "display('Radiation Term:')\n",
    "display(spRadiation)\n",
    "\n",
    "spC_p, sp_Heater_Q            = sp.symbols(['C_p','Q'])\n",
    "spGain                        = spC_p * sp_Heater_Q\n",
    "display('Heat Gain Term:')\n",
    "display(spGain)\n",
    "\n",
    "\n",
    "# GEKKO model Equation\n",
    "#TCLab.Equation(HS_Temp_C.dt()  == ( Convection + Radiation + (C_p * Heater_Q) ) / \n",
    "#                                (HS_Mass.to('kg').magnitude * HS_Cp.to('joule/(kg*K)').magnitude) )\n",
    "TCLab.Equation(HS_Temp_C.dt()  == ( Convection + Radiation + Gain ) / \n",
    "                                (HS_Mass.to('kg').magnitude * HS_Cp.to('joule/(kg*K)').magnitude) )\n",
    "\n",
    "# Sympy Equation\n",
    "sp_mass,spHS_Temp_C  = sp.symbols(['m','dTdt'])\n",
    "spTCModel =  (spConvection + spRadiation + spGain) / (sp_mass * spC_p)\n",
    "display('Model Equation Right-Hand-Side:')\n",
    "display(spTCModel)\n",
    "\n",
    "\n",
    "# This is the 'super simple' method for printing the equation.\n",
    "#py2tex('dTdt  = ( Convection + Radiation + Gain ) / (HS_Mass * HS_Cp)')\n",
    "\n",
    "# A SymPy 'Equation' includes what is on both the RIGHT and LEFT hand side of the '='\n",
    "spHS_Temp_C_display = sp.Eq(spHS_Temp_C, spTCModel )\n",
    "display('Full Model Equation:')\n",
    "display(spHS_Temp_C_display)\n",
    "\n",
    "display('Model partial derivitive with respect to \"spT_HS\":')\n",
    "display(sp.diff(spTCModel,spT_HS))\n",
    "\n",
    "display('Model partial derivitive with respect to \"sp_Heater_Q\":')\n",
    "display(sp.diff(spTCModel,sp_Heater_Q))\n",
    "\n",
    "\n",
    "\n",
    "# solve ODEs and plot\n",
    "# https://gekko.readthedocs.io/en/latest/imode.html\n",
    "TCLab.options.IMODE = 4 # dynamic simulation\n",
    "\n",
    "\n",
    "############### SOLVER OPTIONS ######################\n",
    "# Type: Integer, Input/Output\n",
    "# Default Value: 0\n",
    "# Description: Cold start model: 0=warm start, 1=cold start, 2=decompose problem\n",
    "#TCLab.options.COLDSTART = 2\n",
    "\n",
    "#TCLab.options.SOLVER = 1\n",
    "#TCLab.options.MAX_ITER = 1000\n",
    "\n",
    "TCLab.options.NODES = 3\n",
    "TCLab.options.TIME_SHIFT=0\n",
    "############### SOLVER OPTIONS ######################\n",
    "\n",
    "\n",
    "fig = plt.figure(figsize=(12,4))\n",
    "plt_ax = plt.subplot(1,2,1)\n",
    "#plt_ax = plt.axes(label='TCLab')\n",
    "plt_ax.set_ylim(25,70)\n",
    "\n",
    "# Solve the dynamic system\n",
    "TCLab.solve(disp=False)\n",
    "\n",
    "# Plot the heatsink temperature as a function of time. (And Heater input curve...)\n",
    "plt_ax.plot(TCLab.time,HS_Temp_C, marker='',linewidth=1,label='C_p = {0}'.format(C_p.value[0]))\n",
    "\n",
    "\n",
    "######################################################################################\n",
    "# Create the 'dummy' plot with NaN's that will be replaced with measured data below.\n",
    "T1 = np.empty(len(TCLab.time))\n",
    "T1[:] = np.nan\n",
    "T1_time = np.empty(len(TCLab.time))\n",
    "T1_time[:] = np.nan\n",
    "MeasuredData, = plt_ax.plot(T1_time,T1,'r.', label='Measured')\n",
    "######################################################################################\n",
    "\n",
    "plt.grid(True)\n",
    "plt.title('TC Lab Thermal Simulation')\n",
    "plt.xlabel('Time (sec)')\n",
    "plt.ylabel('Temperature (degC)')\n",
    "plt.legend()\n",
    "plt.show()\n",
    "\n",
    "# instantiate a second axes that shares the same x-axis and plot the Heater Input\n",
    "Q_ax = plt_ax.twinx()  \n",
    "Q_ax.plot(TCLab.time,Heater_Q, color = 'gray', linestyle = ':', marker='',linewidth=2,label='Heater')\n",
    "Q_ax.set_ylim(-5,105)\n",
    "plt.ylabel('Heater Percentage')\n",
    "plt.legend(loc = 'lower right')\n",
    "\n",
    "# Make a second plot that shows the heat Gain & Loss terms\n",
    "plt_ax2 = plt.subplot(1,2,2)\n",
    "plt_ax2.plot(TCLab.time,Convection, marker='',linewidth=1,label='Convection')\n",
    "plt_ax2.plot(TCLab.time,Radiation,  marker='',linewidth=1,label='Radiation')\n",
    "plt_ax2.plot(TCLab.time,Loss,       color = 'blue', linestyle = ':', marker='',linewidth=1,label='Total Loss')\n",
    "plt_ax2.plot(TCLab.time,Gain,       marker='',linewidth=1,label='Heater Gain')\n",
    "plt.title('TC Lab Heat Gain & Loss Terms')\n",
    "plt.xlabel('Time (sec)')\n",
    "plt.ylabel('Energy (Watts)')\n",
    "plt.legend()\n",
    "plt.grid(True)\n",
    "\n",
    "plt.subplots_adjust(wspace = 0.4 )\n"
   ]
  },
  {
   "cell_type": "code",
   "execution_count": null,
   "metadata": {},
   "outputs": [],
   "source": [
    "# Actual measured data\n",
    "import tclab\n",
    "import time\n",
    "\n",
    "if (1):\n",
    "    lab = tclab.TCLab()\n",
    "    #T1 = [lab.T1] # Old-style list based plotting...\n",
    "    \n",
    "    # Static On / Off Heater control\n",
    "    #lab.Q1(50)\n",
    "    #print('Turning Heater on to {0}%'.format(HeaterValue))\n",
    "    #lab.Q1(HeaterValue)\n",
    "    \n",
    "    # Use the array defined above to set the heater.\n",
    "    lab.Q1(HeaterValues[0])\n",
    "\n",
    "    T1[:] = np.nan       # Reset the measured temperatures to NaN's\n",
    "    T1_time[:] = np.nan\n",
    "\n",
    "    for i in range(len(TCLab.time)):\n",
    "        time.sleep(1)\n",
    "        lab.Q1(HeaterValues[i])\n",
    "        #print(lab.T1)\n",
    "        print('Time = {3} sec, T1 = {0}, T2 = {1}, Heater Set to {2}'.format(lab.T1, lab.T2, HeaterValues[i], i))\n",
    "        T1[i] = lab.T1\n",
    "        T1_time[i] = i\n",
    "        MeasuredData.set_ydata(np.array(T1))\n",
    "        MeasuredData.set_xdata(np.array(T1_time))\n",
    "        plt_ax.set_title(\"{0} of {1} Points Measured\".format(i+1,t_sim))\n",
    "        fig.canvas.draw()\n",
    "        fig.canvas.flush_events()\n",
    "        plt.show()\n",
    "\n",
    "    lab.close()\n",
    "    plt.show()\n"
   ]
  },
  {
   "cell_type": "code",
   "execution_count": null,
   "metadata": {},
   "outputs": [],
   "source": [
    "if (0): # Grab the current temperature from the TCLab if desired. (I.e. = 1)\n",
    "    import tclab\n",
    "    lab = tclab.TCLab()\n",
    "    print('T1 = {0}, T2 = {1}'.format(lab.T1, lab.T2))\n",
    "    print('T1 = {0}, T2 = {1}'.format(lab.T1, lab.T2))\n",
    "    print('T1 = {0}, T2 = {1}'.format(lab.T1, lab.T2))\n",
    "    lab.close()"
   ]
  },
  {
   "cell_type": "code",
   "execution_count": null,
   "metadata": {},
   "outputs": [],
   "source": [
    "#lab.close()"
   ]
  },
  {
   "cell_type": "code",
   "execution_count": null,
   "metadata": {},
   "outputs": [],
   "source": []
  }
 ],
 "metadata": {
  "kernelspec": {
   "display_name": "Python 3",
   "language": "python",
   "name": "python3"
  },
  "language_info": {
   "codemirror_mode": {
    "name": "ipython",
    "version": 3
   },
   "file_extension": ".py",
   "mimetype": "text/x-python",
   "name": "python",
   "nbconvert_exporter": "python",
   "pygments_lexer": "ipython3",
   "version": "3.7.3"
  }
 },
 "nbformat": 4,
 "nbformat_minor": 4
}
