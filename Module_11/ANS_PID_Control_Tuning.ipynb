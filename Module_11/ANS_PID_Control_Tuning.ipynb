{
 "cells": [
  {
   "cell_type": "code",
   "execution_count": 1,
   "metadata": {},
   "outputs": [
    {
     "data": {
      "application/vnd.jupyter.widget-view+json": {
       "model_id": "4431a3cacec34121bb374af6668a2676",
       "version_major": 2,
       "version_minor": 0
      },
      "text/plain": [
       "Canvas(toolbar=Toolbar(toolitems=[('Home', 'Reset original view', 'home', 'home'), ('Back', 'Back to previous …"
      ]
     },
     "metadata": {},
     "output_type": "display_data"
    }
   ],
   "source": [
    "# Taken from:\n",
    "# https://apmonitor.com/wiki/index.php/Main/GekkoPythonOptimization\n",
    "\n",
    "%matplotlib widget\n",
    "\n",
    "from gekko import GEKKO\n",
    "import numpy as np\n",
    "import matplotlib.pyplot as plt  \n",
    "\n",
    "m = GEKKO()\n",
    "tf = 40\n",
    "\n",
    "m.time = np.linspace(0,tf,2*tf+1)\n",
    "step = np.zeros(2*tf+1)\n",
    "step[3:40] = 2.0\n",
    "#step[40:]  = 5.0 #(ORIGINAL)\n",
    "step[40:]  = 15.0\n",
    "\n",
    "# Controller model\n",
    "Kc = 15.0                    # controller gain\n",
    "tauI = 2.0                  # controller reset time\n",
    "tauD = 1.0                  # derivative constant\n",
    "OP_0 = m.Const(value=0.0)   # OP bias\n",
    "#OP = m.Var(value=0.0)       # controller output (ORIGINAL)\n",
    "OP = m.Var(value=0.0, lb=0.0, ub=100.0)       # controller output\n",
    "PV = m.Var(value=0.0)       # process variable\n",
    "SP = m.Param(value=step)    # set point\n",
    "Intgl = m.Var(value=0.0)    # integral of the error\n",
    "err = m.Intermediate(SP-PV) # set point error\n",
    "m.Equation(Intgl.dt()==err) # integral of the error\n",
    "m.Equation(OP == OP_0 + Kc*err + (Kc/tauI)*Intgl - PV.dt())\n",
    "\n",
    "# Process model\n",
    "Kp = 0.5                    # process gain\n",
    "tauP = 10.0                 # process time constant\n",
    "m.Equation(tauP*PV.dt() + PV == Kp*OP)\n",
    "\n",
    "# Options to add...\n",
    "#m.options.SOLVER = 1\n",
    "#m.options.NODES = 3\n",
    "m.options.COLDSTART = 2\n",
    "\n",
    "m.options.IMODE=4\n",
    "m.solve(disp=False)\n",
    "\n",
    "plt.figure()\n",
    "plt.subplot(2,1,1)\n",
    "plt.plot(m.time,OP.value,'b:',label='OP')\n",
    "plt.ylabel('Output')\n",
    "plt.legend()\n",
    "plt.grid(True)\n",
    "plt.subplot(2,1,2)\n",
    "plt.plot(m.time,SP.value,'k-',label='SP')\n",
    "plt.plot(m.time,PV.value,'r--',label='PV')\n",
    "plt.xlabel('Time (sec)')\n",
    "plt.ylabel('Process')\n",
    "plt.grid(True)\n",
    "plt.legend()\n",
    "plt.show()"
   ]
  },
  {
   "cell_type": "code",
   "execution_count": null,
   "metadata": {},
   "outputs": [],
   "source": []
  }
 ],
 "metadata": {
  "kernelspec": {
   "display_name": "Python 3",
   "language": "python",
   "name": "python3"
  },
  "language_info": {
   "codemirror_mode": {
    "name": "ipython",
    "version": 3
   },
   "file_extension": ".py",
   "mimetype": "text/x-python",
   "name": "python",
   "nbconvert_exporter": "python",
   "pygments_lexer": "ipython3",
   "version": "3.7.3"
  }
 },
 "nbformat": 4,
 "nbformat_minor": 4
}
