{
 "cells": [
  {
   "cell_type": "code",
   "execution_count": 1,
   "metadata": {},
   "outputs": [],
   "source": [
    "import numpy as np\n",
    "from scipy.integrate import odeint\n",
    "import matplotlib.pyplot as plt\n",
    "from pytexit import py2tex\n",
    "from IPython.display import Markdown\n",
    "from gekko import GEKKO\n",
    "\n",
    "%matplotlib widget"
   ]
  },
  {
   "cell_type": "code",
   "execution_count": 8,
   "metadata": {},
   "outputs": [
    {
     "data": {
      "application/vnd.jupyter.widget-view+json": {
       "model_id": "4d3c76b07ef8468eb9d2d926f98b00a9",
       "version_major": 2,
       "version_minor": 0
      },
      "text/plain": [
       "Canvas(toolbar=Toolbar(toolitems=[('Home', 'Reset original view', 'home', 'home'), ('Back', 'Back to previous …"
      ]
     },
     "metadata": {},
     "output_type": "display_data"
    }
   ],
   "source": [
    "#m = GEKKO()    # create GEKKO model\n",
    "m = GEKKO(remote=False)    # create GEKKO model LOCALLY!\n",
    "\n",
    "k = 0.3        # constant\n",
    "y = m.Var(4.0) # create GEKKO variable\n",
    "m.Equation(y.dt()==-k*y) # create GEKKO equation\n",
    "m.time = np.linspace(0,20) # time points\n",
    "\n",
    "# solve ODE\n",
    "m.options.IMODE = 4;\n",
    "m.solve(disp=False);\n",
    "\n",
    "# plot results\n",
    "plt.figure()\n",
    "plt.plot(m.time,y)\n",
    "plt.xlabel('time')\n",
    "plt.ylabel('y(t)')\n",
    "plt.show();"
   ]
  },
  {
   "cell_type": "code",
   "execution_count": 3,
   "metadata": {},
   "outputs": [
    {
     "data": {
      "application/vnd.jupyter.widget-view+json": {
       "model_id": "957ffdf8d7094a59811de8602ab721bf",
       "version_major": 2,
       "version_minor": 0
      },
      "text/plain": [
       "Canvas(toolbar=Toolbar(toolitems=[('Home', 'Reset original view', 'home', 'home'), ('Back', 'Back to previous …"
      ]
     },
     "metadata": {},
     "output_type": "display_data"
    },
    {
     "name": "stdout",
     "output_type": "stream",
     "text": [
      "[0.5, 0.5, 0.5, 0.5, 0.5, 0.5, 0.5, 0.5, 0.5, 0.5, 0.5, 0.5, 0.5, 0.5, 0.5, 0.5, 0.5, 0.5, 0.5, 0.5, 0.5]\n"
     ]
    }
   ],
   "source": [
    "#m = GEKKO()    # create GEKKO model\n",
    "m = GEKKO(remote=False)    # create GEKKO model LOCALLY!\n",
    "\n",
    "k = m.Param()  # constant\n",
    "y = m.Var(5.0) # create GEKKO variable\n",
    "m.Equation(y.dt()==-k*y) # create GEKKO equation\n",
    "m.time = np.linspace(0,20,21) # time points\n",
    "\n",
    "# solve ODEs and plot\n",
    "m.options.IMODE = 4\n",
    "m.options.TIME_SHIFT=0\n",
    "\n",
    "plt.figure()\n",
    "\n",
    "k_vals = [0.1, 0.2, 0.3, 0.5]\n",
    "\n",
    "for k_val in k_vals:\n",
    "    k.value = k_val\n",
    "    m.solve(disp=False)\n",
    "    plt.plot(m.time, y, marker = '.', label = 'k={0}'.format(k_val))\n",
    "\n",
    "print(k.value) # 'k.value' is an array that appears to be the same size as 'm.time'\n",
    "\n",
    "#k.value = 0.1\n",
    "#m.solve(disp=False)\n",
    "#plt.plot(m.time,y,'r-',linewidth=2,label='k=0.1')\n",
    "\n",
    "#k.value = 0.2\n",
    "#m.solve(disp=False)\n",
    "#plt.plot(m.time,y,'b--',linewidth=2,label='k=0.2')\n",
    "\n",
    "#k.value = 0.5\n",
    "#m.solve(disp=False)\n",
    "#plt.plot(m.time,y,'g:',linewidth=2,label='k=0.3')\n",
    "\n",
    "plt.xlabel('time')\n",
    "plt.ylabel('y(t)')\n",
    "plt.legend()\n",
    "plt.show()"
   ]
  },
  {
   "cell_type": "code",
   "execution_count": 4,
   "metadata": {},
   "outputs": [
    {
     "data": {
      "application/vnd.jupyter.widget-view+json": {
       "model_id": "24f033019d73431f8c0af1654d138bd6",
       "version_major": 2,
       "version_minor": 0
      },
      "text/plain": [
       "Canvas(toolbar=Toolbar(toolitems=[('Home', 'Reset original view', 'home', 'home'), ('Back', 'Back to previous …"
      ]
     },
     "metadata": {},
     "output_type": "display_data"
    },
    {
     "name": "stdout",
     "output_type": "stream",
     "text": [
      "Warning: model time only used for dynamic modes (IMODE>3)\n",
      "Final Value: [1.0]\n"
     ]
    }
   ],
   "source": [
    "# Exercise Problem 1\n",
    "\n",
    "\n",
    "#m = GEKKO()    # create GEKKO model\n",
    "m = GEKKO(remote=False)    # create GEKKO model LOCALLY!\n",
    "\n",
    "#k = m.Param()  # constant\n",
    "y = m.Var(0.0) # create GEKKO variable\n",
    "m.Equation(y.dt()==-y+1.0) # create GEKKO equation\n",
    "m.time = np.linspace(0,5) # time points\n",
    "\n",
    "# solve ODEs and plot\n",
    "m.options.IMODE = 4\n",
    "m.options.TIME_SHIFT=0\n",
    "\n",
    "plt.figure()\n",
    "\n",
    "#k.value = 0.1\n",
    "m.solve(disp=False)\n",
    "plt.plot(m.time,y,'r-',marker='.',linewidth=2,label='p1')\n",
    "\n",
    "# calculate Steady State\n",
    "m.options.IMODE = 3\n",
    "m.solve(disp=False)\n",
    "print('Final Value: ' + str(y.value))\n",
    "\n",
    "\n",
    "plt.xlabel('time')\n",
    "plt.ylabel('y(t)')\n",
    "plt.legend()\n",
    "plt.show()"
   ]
  },
  {
   "cell_type": "code",
   "execution_count": 5,
   "metadata": {},
   "outputs": [
    {
     "data": {
      "application/vnd.jupyter.widget-view+json": {
       "model_id": "8e67e87d1c0044dd986f2f6557ea12ef",
       "version_major": 2,
       "version_minor": 0
      },
      "text/plain": [
       "Canvas(toolbar=Toolbar(toolitems=[('Home', 'Reset original view', 'home', 'home'), ('Back', 'Back to previous …"
      ]
     },
     "metadata": {},
     "output_type": "display_data"
    },
    {
     "name": "stdout",
     "output_type": "stream",
     "text": [
      "Warning: model time only used for dynamic modes (IMODE>3)\n",
      "Final Value: [0.0]\n"
     ]
    }
   ],
   "source": [
    "# Exercise Problem 2\n",
    "\n",
    "\n",
    "#m = GEKKO()    # create GEKKO model\n",
    "m = GEKKO(remote=False)    # create GEKKO model LOCALLY!\n",
    "\n",
    "#k = m.Param()  # constant\n",
    "\n",
    "m.time = np.linspace(0,40,101) # time points\n",
    "\n",
    "u_vector = np.zeros(len(m.time))\n",
    "u_vector[m.time > 10] = 2.0\n",
    "\n",
    "u = m.Param(value = u_vector)\n",
    "\n",
    "y = m.Var(1.0) # create GEKKO variable (WITH INITIAL CONDITION --> I.e. y(0) = 1.0 )\n",
    "\n",
    "m.Equation(5.0 * y.dt()==-y+u) # create GEKKO equation\n",
    "#m.Equation(5.0 * y.dt()==-y+1.5) # create GEKKO equation\n",
    "\n",
    "\n",
    "# solve ODEs and plot\n",
    "m.options.IMODE = 4\n",
    "m.options.TIME_SHIFT=0\n",
    "\n",
    "m.solve(disp=False)\n",
    "\n",
    "plt.figure()\n",
    "plt.plot(m.time,y,'r-',marker='.',linewidth=2,label='y(t)')\n",
    "plt.plot(m.time,u,'b', label = 'u(t)')\n",
    "\n",
    "# calculate Steady State\n",
    "m.options.IMODE = 3\n",
    "m.solve(disp=False)\n",
    "print('Final Value: ' + str(y.value))\n",
    "\n",
    "plt.xlabel('time')\n",
    "plt.ylabel('y(t)')\n",
    "plt.legend()\n",
    "plt.show()\n"
   ]
  },
  {
   "cell_type": "code",
   "execution_count": 6,
   "metadata": {},
   "outputs": [
    {
     "data": {
      "application/vnd.jupyter.widget-view+json": {
       "model_id": "362c333c6c4840bdb82c0a11fcbb2b96",
       "version_major": 2,
       "version_minor": 0
      },
      "text/plain": [
       "Canvas(toolbar=Toolbar(toolitems=[('Home', 'Reset original view', 'home', 'home'), ('Back', 'Back to previous …"
      ]
     },
     "metadata": {},
     "output_type": "display_data"
    },
    {
     "name": "stdout",
     "output_type": "stream",
     "text": [
      "(101,)\n",
      "(101,)\n",
      "(101,)\n",
      "\n",
      "<class 'gekko.gk_variable.GKVariable'>\n",
      "0.1462974112\n"
     ]
    },
    {
     "data": {
      "application/vnd.jupyter.widget-view+json": {
       "model_id": "0b62435b0f734832b4e43e4a6371ed04",
       "version_major": 2,
       "version_minor": 0
      },
      "text/plain": [
       "Canvas(toolbar=Toolbar(toolitems=[('Home', 'Reset original view', 'home', 'home'), ('Back', 'Back to previous …"
      ]
     },
     "metadata": {},
     "output_type": "display_data"
    }
   ],
   "source": [
    "# Exercise Problem 3\n",
    "\n",
    "\n",
    "#m3 = GEKKO()    # create GEKKO model\n",
    "#k = 0.3        # constant\n",
    "#y = m3.Var(4.0) # create GEKKO variable\n",
    "#m3.Equation(y.dt()==-k*y) # create GEKKO equation\n",
    "#m3.time = np.linspace(0,20) # time points\n",
    "\n",
    "## solve ODE\n",
    "#m3.options.IMODE = 4;\n",
    "#m3.solve(disp=False);\n",
    "\n",
    "t_vector = np.linspace(0,5,101) # time points\n",
    "\n",
    "\n",
    "######################### M1 #################################\n",
    "#m1 = GEKKO()    # create GEKKO model for dx/dt\n",
    "m1 = GEKKO(remote=False)    # create GEKKO model LOCALLY!\n",
    "\n",
    "m1.time = t_vector\n",
    "\n",
    "x = m1.Var(0.0) # create GEKKO variable (WITH INITIAL CONDITION --> I.e. x(0) = 0.0 )\n",
    "\n",
    "#t_param = m1.Var(value = t_vector)\n",
    "t_param = m1.Var(0.0)\n",
    "m1.Equation(t_param.dt()==1) # Fully define the t_param variable.\n",
    "m1.Equation(x.dt()==3*m1.exp(-t_param)) # create GEKKO equation ### Note that the exponential function used here comes from the GEKKO toolbox\n",
    "\n",
    "y1 = m1.Var(0.0) # create GEKKO variable y\n",
    "m1.Equation(y1.dt()==3-y1)\n",
    "\n",
    "# solve ODEs and plot\n",
    "m1.options.IMODE = 4\n",
    "\n",
    "#---------------------\n",
    "# https://apmonitor.com/wiki/index.php/Main/OptionApmNodes\n",
    "#\n",
    "# https://gekko.readthedocs.io/en/latest/global.html?highlight=NODES#nodes\n",
    "#\n",
    "#  Type: Integer, Input\n",
    "# Default Value: 3\n",
    "# Allowable Range: 2-6\n",
    "# Description: Nodes in each horizon step\n",
    "#\n",
    "# Explanation: NODES are the number of collocation points in \n",
    "# the span of each time segment. For dynamic problems, the time \n",
    "# segments are linked together into a time horizon. \n",
    "#\n",
    "# Successive endpoints of the time segments are merged to form a \n",
    "# chain of model predictions. \n",
    "# Increasing the number of nodes will generally improve the \n",
    "# solution accuracy but also increase the problem size and \n",
    "# computation time. Solution accuracy can also be improved by \n",
    "# adding more time segments.\n",
    "m1.options.NODES = 3\n",
    "#---------------------\n",
    "\n",
    "m1.options.TIME_SHIFT=0\n",
    "m1.solve(disp=False)\n",
    "\n",
    "\n",
    "######################### M2 #################################\n",
    "#m2 = GEKKO()    # create GEKKO model for dy/dt\n",
    "m2 = GEKKO(remote=False)    # create GEKKO model LOCALLY!\n",
    "\n",
    "m2.time = t_vector\n",
    "y = m2.Var(0.0) # create GEKKO variable (WITH INITIAL CONDITION --> I.e. y(0) = 0.0 )\n",
    "m2.Equation(y.dt()==3-y) # create GEKKO equation\n",
    "\n",
    "# solve ODEs and plot\n",
    "m2.options.IMODE = 4\n",
    "\n",
    "#---------------------\n",
    "m2.options.NODES = 3\n",
    "#---------------------\n",
    "\n",
    "m2.options.TIME_SHIFT=0\n",
    "m2.solve(disp=False)\n",
    "\n",
    "\n",
    "\n",
    "\n",
    "plt.figure()\n",
    "plt.plot(m1.time,x,'r:',marker='.',linewidth=2,label='x(t)')\n",
    "plt.plot(m1.time,y1,'k',marker='.',linewidth=2,label='y(t) from m1')\n",
    "\n",
    "plt.plot(m2.time,y,'b:',marker='',linewidth=2,label='y(t)')\n",
    "\n",
    "plt.xlabel('time')\n",
    "plt.ylabel('y(t)')\n",
    "plt.legend()\n",
    "plt.show()\n",
    "\n",
    "\n",
    "\n",
    "# Compare model performance...\n",
    "print(np.shape(x))\n",
    "print(np.shape(y))\n",
    "print(np.shape(y1))\n",
    "\n",
    "print()\n",
    "\n",
    "print(type(y1))\n",
    "print(y1[1])\n",
    "#print(np.shape(x,+y1,))\n",
    "model_diff1 = np.array(x) - np.array(y)\n",
    "\n",
    "model_diff2 = np.array(x) - np.array(y1)\n",
    "\n",
    "plt.figure()\n",
    "plt.plot(m1.time,model_diff1,'r',marker='',linewidth=2,label='diff(x-y)')\n",
    "plt.plot(m1.time,model_diff2,'b:',marker='.',linewidth=2,label='diff(x-y1)')\n",
    "plt.xlabel('time')\n",
    "plt.ylabel('y(t)')\n",
    "plt.legend()\n",
    "plt.show()\n",
    "\n"
   ]
  },
  {
   "cell_type": "code",
   "execution_count": 7,
   "metadata": {},
   "outputs": [
    {
     "data": {
      "application/vnd.jupyter.widget-view+json": {
       "model_id": "8201fb4a70314457bd9c0f125151d8db",
       "version_major": 2,
       "version_minor": 0
      },
      "text/plain": [
       "Canvas(toolbar=Toolbar(toolitems=[('Home', 'Reset original view', 'home', 'home'), ('Back', 'Back to previous …"
      ]
     },
     "metadata": {},
     "output_type": "display_data"
    }
   ],
   "source": [
    "# Exercise Problem 4\n",
    "\n",
    "\n",
    "t_vector = np.linspace(0,40,301) # time points\n",
    "\n",
    "\n",
    "######################### M1 #################################\n",
    "#m4 = GEKKO()    # create GEKKO model for dx/dt\n",
    "m4 = GEKKO(remote=False)    # create GEKKO model LOCALLY!\n",
    "\n",
    "m4.time = t_vector\n",
    "\n",
    "x = m4.Var(0.0) # create GEKKO variable (WITH INITIAL CONDITION --> I.e. x(0) = 0.0 )\n",
    "y = m4.Var(0.0) # create GEKKO variable (WITH INITIAL CONDITION --> I.e. y(0) = 0.0 )\n",
    "\n",
    "u_vector = np.zeros(len(m4.time))\n",
    "u_vector[m4.time > 5] = 2.0\n",
    "u = m4.Param(value = u_vector)\n",
    "\n",
    "m4.Equation(2.0 * x.dt() == -x + u)\n",
    "m4.Equation(5.0 * y.dt() == -y + x)\n",
    "\n",
    "# solve ODEs and plot\n",
    "m4.options.IMODE = 4\n",
    "\n",
    "#---------------------\n",
    "m4.options.NODES = 3\n",
    "#---------------------\n",
    "\n",
    "m4.options.TIME_SHIFT=0\n",
    "m4.solve(disp=False)\n",
    "\n",
    "\n",
    "\n",
    "plt.figure()\n",
    "plt.plot(m4.time,x,'b:',marker='',linewidth=1,label='x(t)')\n",
    "plt.plot(m4.time,y,'r',marker='',linewidth=1,label='y(t)')\n",
    "plt.plot(m4.time,u,'g',marker='',linewidth=1,label='u(t)')\n",
    "\n",
    "\n",
    "plt.xlabel('time')\n",
    "plt.ylabel('y(t)')\n",
    "plt.legend()\n",
    "plt.show()"
   ]
  },
  {
   "cell_type": "code",
   "execution_count": null,
   "metadata": {},
   "outputs": [],
   "source": []
  }
 ],
 "metadata": {
  "kernelspec": {
   "display_name": "Python 3",
   "language": "python",
   "name": "python3"
  },
  "language_info": {
   "codemirror_mode": {
    "name": "ipython",
    "version": 3
   },
   "file_extension": ".py",
   "mimetype": "text/x-python",
   "name": "python",
   "nbconvert_exporter": "python",
   "pygments_lexer": "ipython3",
   "version": "3.7.3"
  }
 },
 "nbformat": 4,
 "nbformat_minor": 4
}
