{
 "cells": [
  {
   "cell_type": "code",
   "execution_count": 1,
   "metadata": {},
   "outputs": [],
   "source": [
    "import numpy as np\n",
    "from scipy.integrate import odeint\n",
    "import matplotlib.pyplot as plt\n",
    "from pytexit import py2tex\n",
    "from IPython.display import Markdown\n",
    "from gekko import GEKKO\n",
    "import pandas as pd\n",
    "\n",
    "%matplotlib widget"
   ]
  },
  {
   "cell_type": "code",
   "execution_count": 4,
   "metadata": {},
   "outputs": [
    {
     "name": "stdout",
     "output_type": "stream",
     "text": [
      "     time    lv         Virus\n",
      "0    0.00  1.20  1.584893e+01\n",
      "1    0.25  1.67  4.677351e+01\n",
      "2    0.50  2.06  1.148154e+02\n",
      "3    0.75  2.05  1.122018e+02\n",
      "4    1.00  3.57  3.715352e+03\n",
      "..    ...   ...           ...\n",
      "56  14.00  6.42  2.630268e+06\n",
      "57  14.25  7.09  1.230269e+07\n",
      "58  14.50  7.37  2.344229e+07\n",
      "59  14.75  6.56  3.630781e+06\n",
      "60  15.00  6.69  4.897788e+06\n",
      "\n",
      "[61 rows x 3 columns]\n"
     ]
    },
    {
     "data": {
      "application/vnd.jupyter.widget-view+json": {
       "model_id": "b5cfb20023a44481b8ae63a0f055d2db",
       "version_major": 2,
       "version_minor": 0
      },
      "text/plain": [
       "Canvas(toolbar=Toolbar(toolitems=[('Home', 'Reset original view', 'home', 'home'), ('Back', 'Back to previous …"
      ]
     },
     "metadata": {},
     "output_type": "display_data"
    },
    {
     "data": {
      "application/vnd.jupyter.widget-view+json": {
       "model_id": "cade4ce5e70d473d884de403c854bbde",
       "version_major": 2,
       "version_minor": 0
      },
      "text/plain": [
       "Canvas(toolbar=Toolbar(toolitems=[('Home', 'Reset original view', 'home', 'home'), ('Back', 'Back to previous …"
      ]
     },
     "metadata": {},
     "output_type": "display_data"
    },
    {
     "data": {
      "text/plain": [
       "Text(0, 0.5, 'Virus Count (log scale)')"
      ]
     },
     "execution_count": 4,
     "metadata": {},
     "output_type": "execute_result"
    }
   ],
   "source": [
    "# Import 'measured data'\n",
    "HIV_Data = pd.read_excel('hiv_data.xlsx')\n",
    "\n",
    "HIV_Data['Virus'] = np.power(10,HIV_Data.lv)\n",
    "print(HIV_Data)\n",
    "plt.figure()\n",
    "plt.plot(HIV_Data.time,HIV_Data.lv,'.')\n",
    "plt.grid()\n",
    "plt.title('HIV Data (log(x))')\n",
    "plt.xlabel('Time (yrs)')\n",
    "plt.ylabel('Virus Count (log scale)')\n",
    "\n",
    "plt.figure()\n",
    "plt.semilogy(HIV_Data.time,HIV_Data.Virus,'.')\n",
    "plt.grid()\n",
    "plt.title('HIV Data')\n",
    "plt.xlabel('Time (yrs)')\n",
    "plt.ylabel('Virus Count (log scale)')\n"
   ]
  },
  {
   "cell_type": "code",
   "execution_count": 15,
   "metadata": {},
   "outputs": [
    {
     "data": {
      "application/vnd.jupyter.widget-view+json": {
       "model_id": "9d52660ebb824b69b26a754c36982479",
       "version_major": 2,
       "version_minor": 0
      },
      "text/plain": [
       "Canvas(toolbar=Toolbar(toolitems=[('Home', 'Reset original view', 'home', 'home'), ('Back', 'Back to previous …"
      ]
     },
     "metadata": {},
     "output_type": "display_data"
    }
   ],
   "source": [
    "# Exercise Problem 4\n",
    "# https://apmonitor.com/pdc/index.php/Main/SimulateHIV\n",
    "\n",
    "######################### M1 #################################\n",
    "HIVmodel = GEKKO()    # create GEKKO model for dx/dt\n",
    "HIVmodel.time = np.linspace(0,15,301) # time points\n",
    "\n",
    "# dt is in the units of YEARS.\n",
    "\n",
    "kr1 = 1e5  # = new healthy cells per year\n",
    "kr2 = 0.1  # = death rate of healthy cells\n",
    "kr3 = 2e-7 # = healthy cells converting to infected cells\n",
    "kr4 = 0.5  # = death rate of infected cells\n",
    "kr5 = 5    # = death rate of virus\n",
    "kr6 = 100  # = production of virus by infected cells\n",
    "\n",
    "Healthy  = HIVmodel.Var(1e6) # GEKKO variable = healthy cells = 1,000,000 initially\n",
    "Infected = HIVmodel.Var(0) # GEKKO variable = infected cells = 0 initially\n",
    "Virus    = HIVmodel.Var(100) # GEKKO variable = virus = 100 initially\n",
    "\n",
    "HIVmodel.Equation(Healthy.dt()  == (kr1) - (kr2 * Healthy)  - (kr3 * Healthy * Virus) )\n",
    "HIVmodel.Equation(Infected.dt() == ( kr3 * Healthy * Virus) - (kr4 * Infected) )\n",
    "HIVmodel.Equation(Virus.dt()    == (-kr3 * Healthy * Virus) - (kr5 * Virus) + (kr6 * Infected) )\n",
    "\n",
    "# solve ODEs and plot\n",
    "HIVmodel.options.IMODE = 4\n",
    "\n",
    "# Type: Integer, Input/Output\n",
    "# Default Value: 0\n",
    "# Description: Cold start model: 0=warm start, 1=cold start, 2=decompose problem\n",
    "HIVmodel.options.COLDSTART = 2\n",
    "\n",
    "#HIVmodel.options.SOLVER = 1\n",
    "#HIVmodel.options.MAX_ITER = 1000\n",
    "\n",
    "#---------------------\n",
    "HIVmodel.options.NODES = 3\n",
    "#---------------------\n",
    "\n",
    "HIVmodel.options.TIME_SHIFT=0\n",
    "HIVmodel.solve(disp=False)\n",
    "\n",
    "\n",
    "plt.figure()\n",
    "plt.semilogy(HIVmodel.time,Healthy,'b',marker='',linewidth=1,label='Healthy Cells')\n",
    "plt.semilogy(HIVmodel.time,Infected,'g:',marker='',linewidth=1,label='Infected Cells')\n",
    "plt.semilogy(HIVmodel.time,Virus,'r--',marker='',linewidth=1,label='Virus')\n",
    "\n",
    "plt.semilogy(HIV_Data.time,HIV_Data.Virus,'.', color = 'red',label = 'Data To Match')\n",
    "\n",
    "plt.grid(True)\n",
    "\n",
    "plt.title('HIV Simulation')\n",
    "plt.xlabel('time')\n",
    "plt.ylabel('y(t)')\n",
    "plt.legend()\n",
    "plt.show()"
   ]
  },
  {
   "cell_type": "code",
   "execution_count": null,
   "metadata": {},
   "outputs": [],
   "source": []
  }
 ],
 "metadata": {
  "kernelspec": {
   "display_name": "Python 3",
   "language": "python",
   "name": "python3"
  },
  "language_info": {
   "codemirror_mode": {
    "name": "ipython",
    "version": 3
   },
   "file_extension": ".py",
   "mimetype": "text/x-python",
   "name": "python",
   "nbconvert_exporter": "python",
   "pygments_lexer": "ipython3",
   "version": "3.7.3"
  }
 },
 "nbformat": 4,
 "nbformat_minor": 4
}
