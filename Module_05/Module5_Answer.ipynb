{
 "cells": [
  {
   "cell_type": "code",
   "execution_count": 1,
   "metadata": {},
   "outputs": [
    {
     "name": "stdout",
     "output_type": "stream",
     "text": [
      "TCLab version 0.4.9\n",
      "--- Serial Ports ---\n",
      "Connect TCLab to Get Data\n",
      "gamma = -0.006181061174034302\n",
      "beta = 0.005\n"
     ]
    },
    {
     "data": {
      "application/vnd.jupyter.widget-view+json": {
       "model_id": "ea92a4511b954fa8a29b1f3b8bba52b4",
       "version_major": 2,
       "version_minor": 0
      },
      "text/plain": [
       "Canvas(toolbar=Toolbar(toolitems=[('Home', 'Reset original view', 'home', 'home'), ('Back', 'Back to previous …"
      ]
     },
     "metadata": {},
     "output_type": "display_data"
    }
   ],
   "source": [
    "import numpy as np\n",
    "import matplotlib.pyplot as plt\n",
    "from scipy.integrate import odeint\n",
    "import tclab\n",
    "import time \n",
    "\n",
    "%matplotlib widget\n",
    "\n",
    "n = 300  # Number of second time points (5 min)\n",
    "\n",
    "# collect data if TCLab is connected\n",
    "try:\n",
    "    lab = tclab.TCLab()\n",
    "    T1 = [lab.T1]\n",
    "    lab.Q1(75)\n",
    "    for i in range(n):\n",
    "        time.sleep(1)\n",
    "        print(lab.T1)\n",
    "        T1.append(lab.T1)\n",
    "    lab.close()\n",
    "    connected = True\n",
    "except:\n",
    "    print('Connect TCLab to Get Data')\n",
    "    connected = False\n",
    "\n",
    "# simulation\n",
    "U = 5.0\n",
    "A = 0.0012\n",
    "alpha = 0.01\n",
    "eps = 0.9\n",
    "sigma = 5.67e-8\n",
    "\n",
    "#Ta = 23\n",
    "Ta = 23\n",
    "\n",
    "Cp = 500 \n",
    "m = 0.004\n",
    "#Q = 75\n",
    "Q = 75\n",
    "\n",
    "TaK = Ta + 273.15\n",
    "\n",
    "gamma = -U*A/(m*Cp) - 4*eps*sigma*A*TaK**3/(m*Cp)\n",
    "beta = alpha/(m*Cp)\n",
    "print('gamma = {}'.format(gamma))\n",
    "print('beta = {}'.format(beta))\n",
    "\n",
    "\n",
    "def labsim(x,t):\n",
    "    TC,TC2 = x\n",
    "    # convert to Kelvin\n",
    "    TK = TC + 273.15\n",
    "    # nonlinear\n",
    "    dTCdt = (U*A*(Ta-TC) + sigma*eps*A*(TaK**4-TK**4) + alpha*Q)/(m*Cp)\n",
    "    # linear\n",
    "    #dTC2dt = gamma * (TC2-23) + beta * (Q-0)\n",
    "    dTC2dt = gamma * (TC2-Ta) + beta * (Q-0)\n",
    "    return [dTCdt,dTC2dt]\n",
    "\n",
    "tm = np.linspace(0,n,n+1) # Time values\n",
    "Tsim = odeint(labsim,[23,23],tm)\n",
    "\n",
    "T_nonlinear = Tsim[:,0]\n",
    "T_linear = Tsim[:,1]\n",
    "\n",
    "# Plot results\n",
    "plt.figure()\n",
    "plt.plot(tm,T_nonlinear,'b-',label='Nonlinear')\n",
    "plt.plot(tm,T_linear,'k:',label='Linear')\n",
    "if connected:\n",
    "    plt.plot(tm,T1,'r.',label='Measured')\n",
    "plt.ylabel(r'Temperature ($^oC$)')\n",
    "plt.legend()\n",
    "plt.xlabel('Time (sec)')\n",
    "plt.grid(True)\n",
    "plt.show()"
   ]
  },
  {
   "cell_type": "code",
   "execution_count": null,
   "metadata": {},
   "outputs": [],
   "source": []
  }
 ],
 "metadata": {
  "kernelspec": {
   "display_name": "Python 3",
   "language": "python",
   "name": "python3"
  },
  "language_info": {
   "codemirror_mode": {
    "name": "ipython",
    "version": 3
   },
   "file_extension": ".py",
   "mimetype": "text/x-python",
   "name": "python",
   "nbconvert_exporter": "python",
   "pygments_lexer": "ipython3",
   "version": "3.7.3"
  }
 },
 "nbformat": 4,
 "nbformat_minor": 4
}
