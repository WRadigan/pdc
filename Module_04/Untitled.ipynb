{
 "cells": [
  {
   "cell_type": "code",
   "execution_count": 1,
   "metadata": {},
   "outputs": [
    {
     "name": "stdout",
     "output_type": "stream",
     "text": [
      "TCLab version 0.4.9\n",
      "--- Serial Ports ---\n",
      "Connect TCLab to Get Data\n"
     ]
    },
    {
     "data": {
      "application/vnd.jupyter.widget-view+json": {
       "model_id": "2465878f3caa4a798e346a41c55aa546",
       "version_major": 2,
       "version_minor": 0
      },
      "text/plain": [
       "Canvas(toolbar=Toolbar(toolitems=[('Home', 'Reset original view', 'home', 'home'), ('Back', 'Back to previous …"
      ]
     },
     "metadata": {},
     "output_type": "display_data"
    }
   ],
   "source": [
    "import numpy as np\n",
    "import matplotlib.pyplot as plt\n",
    "import tclab\n",
    "import time\n",
    "# pip install gekko\n",
    "from gekko import GEKKO \n",
    "\n",
    "%matplotlib widget\n",
    "\n",
    "n = 600  # Number of second time points (5 min)\n",
    "\n",
    "# collect data if TCLab is connected\n",
    "try:\n",
    "    lab = tclab.TCLab()\n",
    "    T1 = [lab.T1]\n",
    "    lab.Q1(50)\n",
    "    for i in range(n):\n",
    "        time.sleep(1)\n",
    "        print(lab.T1)\n",
    "        T1.append(lab.T1)\n",
    "    lab.close()\n",
    "    connected = True\n",
    "except:\n",
    "    print('Connect TCLab to Get Data')\n",
    "    connected = False\n",
    "\n",
    "# simulation\n",
    "m = GEKKO()\n",
    "m.time = np.linspace(0,n,n+1)\n",
    "U = 5.0; A = 0.0012; Cp = 500 \n",
    "mass = 0.004; alpha = 0.01; Ta = 23\n",
    "eps = 0.9; sigma = 5.67e-8; TaK = Ta+273.15\n",
    "TC = m.Var(Ta)\n",
    "TK = m.Intermediate(TC+273.15)\n",
    "conv = m.Intermediate(U*A*(Ta-TC))\n",
    "rad  = m.Intermediate(sigma*eps*A*(TaK**4-TK**4))\n",
    "loss = m.Intermediate(conv + rad)\n",
    "gain = m.Intermediate(alpha*50)\n",
    "m.Equation(mass*Cp*TC.dt()==conv+rad+gain)\n",
    "m.options.NODES = 3\n",
    "m.options.IMODE = 4 # dynamic simulation\n",
    "m.solve(disp=False)\n",
    "\n",
    "# Plot results\n",
    "plt.figure()\n",
    "plt.subplot(2,1,1)\n",
    "plt.plot(m.time,TC,'b-',label='Simulated')\n",
    "if connected:\n",
    "    plt.plot(m.time,T1,'r.',label='Measured')\n",
    "plt.ylabel(r'Temperature ($^oC$)')\n",
    "plt.legend()\n",
    "plt.grid(True)\n",
    "plt.subplot(2,1,2)\n",
    "plt.plot(m.time,conv,'g:',label='Convection')\n",
    "plt.plot(m.time,rad,'r--',label='Radiation')\n",
    "plt.plot(m.time,loss,'k-',label='Total Lost')\n",
    "plt.text(150,-0.1,'Heater input = '+str(gain.value[0])+' W')\n",
    "plt.ylabel(r'Heat Loss (W)')\n",
    "plt.legend(loc=3)\n",
    "plt.xlabel('Time (sec)')\n",
    "plt.grid(True)\n",
    "plt.show()"
   ]
  },
  {
   "cell_type": "code",
   "execution_count": null,
   "metadata": {},
   "outputs": [],
   "source": []
  }
 ],
 "metadata": {
  "kernelspec": {
   "display_name": "Python 3",
   "language": "python",
   "name": "python3"
  },
  "language_info": {
   "codemirror_mode": {
    "name": "ipython",
    "version": 3
   },
   "file_extension": ".py",
   "mimetype": "text/x-python",
   "name": "python",
   "nbconvert_exporter": "python",
   "pygments_lexer": "ipython3",
   "version": "3.7.3"
  }
 },
 "nbformat": 4,
 "nbformat_minor": 4
}
