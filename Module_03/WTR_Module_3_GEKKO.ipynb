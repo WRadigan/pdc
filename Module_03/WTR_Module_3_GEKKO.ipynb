{
 "cells": [
  {
   "cell_type": "code",
   "execution_count": 3,
   "metadata": {},
   "outputs": [],
   "source": [
    "import numpy as np\n",
    "from scipy.integrate import odeint\n",
    "import matplotlib.pyplot as plt\n",
    "from pytexit import py2tex\n",
    "from IPython.display import Markdown\n",
    "from gekko import GEKKO\n",
    "import pandas as pd\n",
    "from matplotlib import rcParams\n",
    "import os\n",
    "import sys\n",
    "from copy import copy\n",
    "\n",
    "\n",
    "%matplotlib widget\n",
    "#%matplotlib inline\n",
    "\n",
    "# Look for custom python codes in the Radigan Engineering Vault...\n",
    "sys.path.insert(1, 'C:\\\\\\\\RadiganVault\\\\\\\\Python')\n",
    "\n",
    "import RadiganEngineeringDefaults as RE\n",
    "from RadiganEngineering_Materials_Library import *\n",
    "from RadiganEngineeringTorsionSpring import *\n",
    "from RadiganEngineeringBellevilleSpring import *\n",
    "\n",
    "# Use higher quality figures in PDF exports\n",
    "#rcParams['figure.dpi']= 300\n",
    "#rcParams['figure.figsize'] = [8, 6]\n",
    "set_matplotlib_formats('png', 'pdf')"
   ]
  },
  {
   "cell_type": "code",
   "execution_count": 4,
   "metadata": {},
   "outputs": [
    {
     "name": "stdout",
     "output_type": "stream",
     "text": [
      "[0.0 0.1 0.2 0.30000000000000004 0.4 0.5 0.6000000000000001 0.7000000000000001 0.8 0.9 1.0 1.1 1.2000000000000002 1.3 1.4000000000000001 1.5 1.6 1.7000000000000002 1.8 1.9000000000000001 2.0 2.1 2.2 2.3000000000000003 2.4000000000000004 2.5 2.6 2.7 2.8000000000000003 2.9000000000000004 3.0 3.1 3.2 3.3000000000000003 3.4000000000000004 3.5 3.6 3.7 3.8000000000000003 3.9000000000000004 4.0 4.1000000000000005 4.2 4.3 4.4 4.5 4.6000000000000005 4.7 4.800000000000001 4.9 5.0 5.1000000000000005 5.2 5.300000000000001 5.4 5.5 5.6000000000000005 5.7 5.800000000000001 5.9 6.0 6.1000000000000005 6.2 6.300000000000001 6.4 6.5 6.6000000000000005 6.7 6.800000000000001 6.9 7.0 7.1000000000000005 7.2 7.300000000000001 7.4 7.5 7.6000000000000005 7.7 7.800000000000001 7.9 8.0 8.1 8.200000000000001 8.3 8.4 8.5 8.6 8.700000000000001 8.8 8.9 9.0 9.1 9.200000000000001 9.3 9.4 9.5 9.600000000000001 9.700000000000001 9.8 9.9 10.0] second\n",
      "[0.0 0.1 0.2 0.30000000000000004 0.4 0.5 0.6000000000000001 0.7000000000000001 0.8 0.9 1.0 1.1 1.2000000000000002 1.3 1.4000000000000001 1.5 1.6 1.7000000000000002 1.8 1.9000000000000001 2.0 2.1 2.2 2.3000000000000003 2.4000000000000004 2.5 2.6 2.7 2.8000000000000003 2.9000000000000004 3.0 3.1 3.2 3.3000000000000003 3.4000000000000004 3.5 3.6 3.7 3.8000000000000003 3.9000000000000004 4.0 4.1000000000000005 4.2 4.3 4.4 4.5 4.6000000000000005 4.7 4.800000000000001 4.9 5.0 5.1000000000000005 5.2 5.300000000000001 5.4 5.5 5.6000000000000005 5.7 5.800000000000001 5.9 6.0 6.1000000000000005 6.2 6.300000000000001 6.4 6.5 6.6000000000000005 6.7 6.800000000000001 6.9 7.0 7.1000000000000005 7.2 7.300000000000001 7.4 7.5 7.6000000000000005 7.7 7.800000000000001 7.9 8.0 8.1 8.200000000000001 8.3 8.4 8.5 8.6 8.700000000000001 8.8 8.9 9.0 9.1 9.200000000000001 9.3 9.4 9.5 9.600000000000001 9.700000000000001 9.8 9.9 10.0] second\n",
      "Starting Level = 0.000, Final Level = 24.500\n"
     ]
    },
    {
     "data": {
      "application/vnd.jupyter.widget-view+json": {
       "model_id": "fa564606a8f045c094c4bf43a1b592a4",
       "version_major": 2,
       "version_minor": 0
      },
      "text/plain": [
       "Canvas(toolbar=Toolbar(toolitems=[('Home', 'Reset original view', 'home', 'home'), ('Back', 'Back to previous …"
      ]
     },
     "metadata": {},
     "output_type": "display_data"
    },
    {
     "data": {
      "text/plain": [
       "Text(0.5, 0.98, 'Tank Level Simulation')"
      ]
     },
     "execution_count": 4,
     "metadata": {},
     "output_type": "execute_result"
    }
   ],
   "source": [
    "Module3 = GEKKO(remote=False)    # create GEKKO model for dx/dt\n",
    "#Module3 = GEKKO()    # create GEKKO model for dx/dt\n",
    "\n",
    "\n",
    "#DTS_TC114.REQ_Flat_Load = 15000 * ureg.lbf # Preload required is 15 kip\n",
    "#DTS_TC114.REQ_Travel    = 3.0   * ureg.mm  # Require at least 3mm of Travel\n",
    "#DTS_TC114.Calculate_Spring_Stack()\n",
    "\n",
    "\n",
    "t_sim = 10 * ureg.sec # Number of seconds to simulate\n",
    "points_per_second = 10\n",
    "\n",
    "Module3.time = np.linspace(0, t_sim.magnitude, (t_sim.magnitude * points_per_second) + 1) * ureg.sec # time points\n",
    "\n",
    "print(Module3.time)\n",
    "# dt is in the units of ________.\n",
    "\n",
    "rho       = Module3.Param(1000.0)  # water density (kg/m^3)\n",
    "Area      = Module3.Param(1.0)  # tank area (m^2)\n",
    "Valve_Constant = Module3.Param(50.0) # Valve Constant\n",
    "\n",
    "valve = np.zeros(len(Module3.time)) # u = valve % open\n",
    "valve[21:70] = 100.0  # open valve between 2 and 7 seconds\n",
    "#print(valve)\n",
    "#print(len(valve))\n",
    "#print(Module3.time)\n",
    "#print(len(Module3.time))\n",
    "Valve_State = Module3.Param(valve)\n",
    "\n",
    "Level     = Module3.Var(0) # Start with an empty tank\n",
    "\n",
    "# calculate derivative of the Level\n",
    "Module3.Equation(Level.dt()  == (Valve_Constant/(rho*Area)) * Valve_State)\n",
    "\n",
    "# solve ODEs and plot\n",
    "# https://gekko.readthedocs.io/en/latest/imode.html\n",
    "Module3.options.IMODE = 4 # dynamic simulation\n",
    "#Module3.options.IMODE = 3 # Steady State simulation\n",
    "\n",
    "# Type: Integer, Input/Output\n",
    "# Default Value: 0\n",
    "# Description: Cold start model: 0=warm start, 1=cold start, 2=decompose problem\n",
    "#Module3.options.COLDSTART = 2\n",
    "\n",
    "#Module3.options.SOLVER = 1\n",
    "#Module3.options.MAX_ITER = 1000\n",
    "\n",
    "#---------------------\n",
    "#Module3.options.NODES = 6\n",
    "#---------------------\n",
    "\n",
    "#Module3.options.TIME_SHIFT=0\n",
    "\n",
    "Module3.solve(disp=False)\n",
    "\n",
    "print(Module3.time)\n",
    "\n",
    "print('Starting Level = {0:.3f}, Final Level = {1:.3f}'.format(Level.value[0], Level.value[-1]))\n",
    "\n",
    "plt.figure()\n",
    "plt.subplot(2,1,1)\n",
    "plt.plot(Module3.time,Level, marker='',linewidth=1,label='Tank Level')\n",
    "\n",
    "plt.grid(True)\n",
    "#plt.xlabel('Time')\n",
    "plt.ylabel('Tank Height')\n",
    "plt.legend()\n",
    "plt.show()\n",
    "\n",
    "plt.subplot(2,1,2)\n",
    "plt.plot(Module3.time,Valve_State, color = 'red', linestyle = '--', marker='',linewidth=1,label='Valve State')\n",
    "\n",
    "plt.grid(True)\n",
    "#plt.xlabel('Time (seconds)')\n",
    "plt.ylabel('Valve % Open State')\n",
    "plt.legend()\n",
    "plt.show()\n",
    "\n",
    "plt.suptitle('Tank Level Simulation')\n",
    "\n"
   ]
  },
  {
   "cell_type": "code",
   "execution_count": null,
   "metadata": {},
   "outputs": [],
   "source": []
  }
 ],
 "metadata": {
  "kernelspec": {
   "display_name": "Python 3",
   "language": "python",
   "name": "python3"
  },
  "language_info": {
   "codemirror_mode": {
    "name": "ipython",
    "version": 3
   },
   "file_extension": ".py",
   "mimetype": "text/x-python",
   "name": "python",
   "nbconvert_exporter": "python",
   "pygments_lexer": "ipython3",
   "version": "3.7.3"
  }
 },
 "nbformat": 4,
 "nbformat_minor": 4
}
